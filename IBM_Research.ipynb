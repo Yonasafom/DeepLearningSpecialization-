{
  "nbformat": 4,
  "nbformat_minor": 0,
  "metadata": {
    "colab": {
      "name": "IBM_Research.ipynb",
      "provenance": [],
      "collapsed_sections": [],
      "authorship_tag": "ABX9TyOE817DUgYM+kgZv+C1qQoO",
      "include_colab_link": true
    },
    "kernelspec": {
      "name": "python3",
      "display_name": "Python 3"
    },
    "language_info": {
      "name": "python"
    }
  },
  "cells": [
    {
      "cell_type": "markdown",
      "metadata": {
        "id": "view-in-github",
        "colab_type": "text"
      },
      "source": [
        "<a href=\"https://colab.research.google.com/github/Yonasafom/DeepLearningSpecialization-/blob/main/IBM_Research.ipynb\" target=\"_parent\"><img src=\"https://colab.research.google.com/assets/colab-badge.svg\" alt=\"Open In Colab\"/></a>"
      ]
    },
    {
      "cell_type": "code",
      "metadata": {
        "id": "XI00s_Tv6383"
      },
      "source": [
        "!pip install torch-scatter -f https://data.pyg.org/whl/torch-1.10.0+cu111.html\n",
        "!pip install torch-sparse -f https://data.pyg.org/whl/torch-1.10.0+cu111.html\n",
        "!pip install torch-geometric"
      ],
      "execution_count": null,
      "outputs": []
    },
    {
      "cell_type": "code",
      "metadata": {
        "id": "7oxZ4C_t_GNE"
      },
      "source": [
        "!git clone https://github.com/LarsHoldijk/RE-ParameterizedExplainerForGraphNeuralNetworks.git"
      ],
      "execution_count": null,
      "outputs": []
    },
    {
      "cell_type": "code",
      "metadata": {
        "colab": {
          "base_uri": "https://localhost:8080/"
        },
        "id": "lxG_ghSYAGOe",
        "outputId": "e2d00d17-b2ce-45bb-8fc0-4f3cf183c761"
      },
      "source": [
        "cd RE-ParameterizedExplainerForGraphNeuralNetworks/"
      ],
      "execution_count": 4,
      "outputs": [
        {
          "output_type": "stream",
          "name": "stdout",
          "text": [
            "/content/RE-ParameterizedExplainerForGraphNeuralNetworks\n"
          ]
        }
      ]
    },
    {
      "cell_type": "code",
      "metadata": {
        "id": "LuxTn9sQ75Nx"
      },
      "source": [
        "import torch\n",
        "import torch\n",
        "from torch.nn import ReLU, Linear\n",
        "from torch_geometric.nn import GCNConv, global_max_pool, global_mean_pool\n",
        "from ExplanationEvaluation.configs.selector import Selector\n",
        "from ExplanationEvaluation.tasks.replication import replication\n",
        "from ExplanationEvaluation.tasks.replication import run_experiment\n",
        "\n",
        "from ExplanationEvaluation.evaluation.EfficiencyEvaluation import EfficiencyEvluation\n",
        "from ExplanationEvaluation.tasks.replication import select_explainer\n",
        "from ExplanationEvaluation.tasks.replication import get_classification_task\n",
        "from ExplanationEvaluation.models.model_selector import model_selector\n",
        "from ExplanationEvaluation.datasets.ground_truth_loaders import load_dataset_ground_truth\n",
        "from ExplanationEvaluation.datasets.dataset_loaders import load_dataset\n",
        "from ExplanationEvaluation.evaluation.AUCEvaluation import AUCEvaluation\n",
        "from ExplanationEvaluation.datasets.dataset_loaders import load_dataset"
      ],
      "execution_count": 5,
      "outputs": []
    },
    {
      "cell_type": "markdown",
      "metadata": {
        "id": "lHFtHwTyD3XA"
      },
      "source": [
        "#Model"
      ]
    },
    {
      "cell_type": "code",
      "metadata": {
        "id": "wKAgNnxzBX5h"
      },
      "source": [
        "# node and graph classification \n",
        "\n",
        "import torch\n",
        "import os\n",
        "from torch.nn import ReLU, Linear\n",
        "from torch_geometric.nn import GCNConv, global_max_pool, global_mean_pool\n",
        "\n",
        "\n",
        "class NodeGCN(torch.nn.Module):\n",
        "    \"\"\"\n",
        "    A graph clasification model for nodes decribed in https://arxiv.org/abs/1903.03894.\n",
        "    This model consists of 3 stacked GCN layers followed by a linear layer.\n",
        "    \"\"\"\n",
        "    def __init__(self, num_features, num_classes):\n",
        "        super(NodeGCN, self).__init__()\n",
        "        self.embedding_size = 20 * 3\n",
        "        self.conv1 = GCNConv(num_features, 20)\n",
        "        self.relu1 = ReLU()\n",
        "        self.conv2 = GCNConv(20, 20)\n",
        "        self.relu2 = ReLU()\n",
        "        self.conv3 = GCNConv(20, 20)\n",
        "        self.relu3 = ReLU()\n",
        "        self.lin = Linear(3*20, num_classes)\n",
        "\n",
        "    def forward(self, x, edge_index, edge_weights=None):\n",
        "        input_lin = self.embedding(x, edge_index, edge_weights)\n",
        "        final = self.lin(input_lin)\n",
        "        return final\n",
        "\n",
        "    def embedding(self, x, edge_index, edge_weights=None):\n",
        "        if edge_weights is None:\n",
        "            edge_weights = torch.ones(edge_index.size(1))\n",
        "        stack = []\n",
        "\n",
        "        out1 = self.conv1(x, edge_index, edge_weights)\n",
        "        out1 = torch.nn.functional.normalize(out1, p=2, dim=1)  # this is not used in PGExplainer\n",
        "        out1 = self.relu1(out1)\n",
        "        stack.append(out1)\n",
        "\n",
        "        out2 = self.conv2(out1, edge_index, edge_weights)\n",
        "        out2 = torch.nn.functional.normalize(out2, p=2, dim=1)  # this is not used in PGExplainer\n",
        "        out2 = self.relu2(out2)\n",
        "        stack.append(out2)\n",
        "\n",
        "        out3 = self.conv3(out2, edge_index, edge_weights)\n",
        "        out3 = torch.nn.functional.normalize(out3, p=2, dim=1)  # this is not used in PGExplainer\n",
        "        out3 = self.relu3(out3)\n",
        "        stack.append(out3)\n",
        "\n",
        "        input_lin = torch.cat(stack, dim=1)\n",
        "\n",
        "        return input_lin\n",
        "\n",
        "class GraphGCN(torch.nn.Module):\n",
        "    \"\"\"\n",
        "    A graph clasification model for graphs decribed in https://arxiv.org/abs/1903.03894.\n",
        "    This model consists of 3 stacked GCN layers followed by a linear layer.\n",
        "    In between the GCN outputs and linear layers are pooling operations in both mean and max.\n",
        "    \"\"\"\n",
        "    def __init__(self, num_features, num_classes):\n",
        "        super(GraphGCN, self).__init__()\n",
        "        self.embedding_size = 20\n",
        "        self.conv1 = GCNConv(num_features, 20)\n",
        "        self.relu1 = ReLU()\n",
        "        self.conv2 = GCNConv(20, 20)\n",
        "        self.relu2 = ReLU()\n",
        "        self.conv3 = GCNConv(20, 20)\n",
        "        self.relu3 = ReLU()\n",
        "        self.lin = Linear(self.embedding_size * 2, num_classes)\n",
        "\n",
        "    def forward(self, x, edge_index, batch=None, edge_weights=None):\n",
        "        if batch is None: # No batch given\n",
        "            batch = torch.zeros(x.size(0), dtype=torch.long)\n",
        "        embed = self.embedding(x, edge_index, edge_weights)\n",
        "\n",
        "        out1 = global_max_pool(embed, batch)\n",
        "        out2 = global_mean_pool(embed, batch)\n",
        "        input_lin = torch.cat([out1, out2], dim=-1)\n",
        "\n",
        "        out = self.lin(input_lin)\n",
        "        return out\n",
        "\n",
        "    def embedding(self, x, edge_index, edge_weights=None):\n",
        "        if edge_weights is None:\n",
        "            edge_weights = torch.ones(edge_index.size(1))\n",
        "        stack = []\n",
        "\n",
        "        out1 = self.conv1(x, edge_index, edge_weights)\n",
        "        out1 = torch.nn.functional.normalize(out1, p=2, dim=1)\n",
        "        out1 = self.relu1(out1)\n",
        "        stack.append(out1)\n",
        "\n",
        "        out2 = self.conv2(out1, edge_index, edge_weights)\n",
        "        out2 = torch.nn.functional.normalize(out2, p=2, dim=1)\n",
        "        out2 = self.relu2(out2)\n",
        "        stack.append(out2)\n",
        "\n",
        "        out3 = self.conv3(out2, edge_index, edge_weights)\n",
        "        out3 = torch.nn.functional.normalize(out3, p=2, dim=1)\n",
        "        out3 = self.relu3(out3)\n",
        "\n",
        "        input_lin = out3\n",
        "\n",
        "        return input_lin\n"
      ],
      "execution_count": 6,
      "outputs": []
    },
    {
      "cell_type": "code",
      "metadata": {
        "colab": {
          "base_uri": "https://localhost:8080/"
        },
        "id": "iWkkZo5we7B1",
        "outputId": "04d02b7f-76f1-465f-8a9f-b02d8ddc92de"
      },
      "source": [
        "_dataset = 'bashapes' # One of: bashapes, bacommunity, treecycles, treegrids, ba2motifs, mutag\n",
        "\n",
        "# Parameters below should only be changed if you want to run any of the experiments in the supplementary\n",
        "_folder = 'replication' # One of: replication, batchnorm\n",
        "_model = 'gnn' #if _folder == 'replication' else 'ori'\n",
        "\n",
        "# PGExplainer\n",
        "config_path = f\"./ExplanationEvaluation/configs/{_folder}/models/model_{_model}_{_dataset}.json\"\n",
        "print(config_path)\n",
        "\n",
        "config = Selector(config_path).args\n",
        "\n",
        "extension = (_folder == 'extension')"
      ],
      "execution_count": 7,
      "outputs": [
        {
          "output_type": "stream",
          "name": "stdout",
          "text": [
            "./ExplanationEvaluation/configs/replication/models/model_gnn_bashapes.json\n"
          ]
        }
      ]
    },
    {
      "cell_type": "code",
      "metadata": {
        "id": "G941n4ZTf4CP"
      },
      "source": [
        "def train_node(_dataset, _paper, args):\n",
        "    \"\"\"\n",
        "    Train a explainer to explain node classifications\n",
        "    :param _dataset: the dataset we wish to use for training\n",
        "    :param _paper: the paper we whish to follow, chose from \"GNN\" or \"PG\"\n",
        "    :param args: a dict containing the relevant model arguements\n",
        "    \"\"\"\n",
        "    graph, features, labels, train_mask, val_mask, test_mask = load_dataset(_dataset)\n",
        "    model = model_selector(_paper, _dataset, False)\n",
        "\n",
        "    x = torch.tensor(features)\n",
        "    edge_index = torch.tensor(graph)\n",
        "    labels = torch.tensor(labels)\n",
        "\n",
        "    # Define graph\n",
        "    print(model)\n",
        "    optimizer = torch.optim.Adam(model.parameters(), lr=args.lr)\n",
        "    criterion = torch.nn.CrossEntropyLoss()\n",
        "\n",
        "    best_val_acc = 0.0\n",
        "    best_epoch = 0\n",
        "\n",
        "    for epoch in range(0, args.epochs):\n",
        "        model.train()\n",
        "        optimizer.zero_grad()\n",
        "        out = model(x, edge_index)\n",
        "        loss = criterion(out[train_mask], labels[train_mask])\n",
        "        loss.backward()\n",
        "        torch.nn.utils.clip_grad_norm_(model.parameters(), args.clip_max)\n",
        "        optimizer.step()\n",
        "\n",
        "        if args.eval_enabled: model.eval()\n",
        "        with torch.no_grad():\n",
        "            out = model(x, edge_index)\n",
        "\n",
        "        # Evaluate train\n",
        "        train_acc = evaluate(out[train_mask], labels[train_mask])\n",
        "        test_acc = evaluate(out[test_mask], labels[test_mask])\n",
        "        val_acc = evaluate(out[val_mask], labels[val_mask])\n",
        "\n",
        "        print(f\"Epoch: {epoch}, train_acc: {train_acc:.4f}, val_acc: {val_acc:.4f}, train_loss: {loss:.4f}\")\n",
        "\n",
        "        if val_acc > best_val_acc: # New best results\n",
        "            print(\"Val improved\")\n",
        "            best_val_acc = val_acc\n",
        "            best_epoch = epoch\n",
        "            store_checkpoint(_paper, _dataset, model, train_acc, val_acc, test_acc, best_epoch)\n",
        "\n",
        "        if epoch - best_epoch > args.early_stopping and best_val_acc > 0.99:\n",
        "            break\n",
        "\n",
        "    model = load_best_model(best_epoch, _paper, _dataset, model, args.eval_enabled)\n",
        "    out = model(x, edge_index)\n",
        "\n",
        "    # Train eval\n",
        "    train_acc = evaluate(out[train_mask], labels[train_mask])\n",
        "    test_acc = evaluate(out[test_mask], labels[test_mask])\n",
        "    val_acc = evaluate(out[val_mask], labels[val_mask])\n",
        "    print(f\"final train_acc:{train_acc}, val_acc: {val_acc}, test_acc: {test_acc}\")\n",
        "\n",
        "    store_checkpoint(_paper, _dataset, model, train_acc, val_acc, test_acc)\n",
        "\n",
        "    return model"
      ],
      "execution_count": 8,
      "outputs": []
    },
    {
      "cell_type": "code",
      "metadata": {
        "id": "fidTZMaDf9q9"
      },
      "source": [
        "def evaluate(out, labels):\n",
        "    \"\"\"\n",
        "    Calculates the accuracy between the prediction and the ground truth.\n",
        "    :param out: predicted outputs of the explainer\n",
        "    :param labels: ground truth of the data\n",
        "    :returns: int accuracy\n",
        "    \"\"\"\n",
        "    preds = out.argmax(dim=1)\n",
        "    correct = preds == labels\n",
        "    acc = int(correct.sum()) / int(correct.size(0))\n",
        "    return acc"
      ],
      "execution_count": 9,
      "outputs": []
    },
    {
      "cell_type": "code",
      "metadata": {
        "id": "xLELMXpAgrIe"
      },
      "source": [
        "def load_best_model(best_epoch, paper, dataset, model, eval_enabled):\n",
        "    \"\"\"\n",
        "    Load the model parameters from a checkpoint into a model\n",
        "    :param best_epoch: the epoch which obtained the best result. use -1 to chose the \"best model\"\n",
        "    :param paper: str, the paper \n",
        "    :param dataset: str, the dataset\n",
        "    :param model: the model who's parameters overide\n",
        "    :param eval_enabled: wheater to activate evaluation mode on the model or not\n",
        "    :return: model with pramaters taken from the checkpoint\n",
        "    \"\"\"\n",
        "    print(best_epoch)\n",
        "    if best_epoch == -1:\n",
        "        checkpoint = torch.load(f\"./checkpoints/{paper}/{dataset}/best_model\")\n",
        "    else:\n",
        "        checkpoint = torch.load(f\"./checkpoints/{paper}/{dataset}/model_{best_epoch}\")\n",
        "    model.load_state_dict(checkpoint['model_state_dict'])\n",
        "\n",
        "    if eval_enabled: model.eval()\n",
        "\n",
        "    return model"
      ],
      "execution_count": 10,
      "outputs": []
    },
    {
      "cell_type": "code",
      "metadata": {
        "id": "DgwXg-rbgKjl"
      },
      "source": [
        "def store_checkpoint(paper, dataset, model, train_acc, val_acc, test_acc, epoch=-1):\n",
        "    \"\"\"\n",
        "    Store the model weights at a predifined location.\n",
        "    :param paper: str, the paper \n",
        "    :param dataset: str, the dataset\n",
        "    :param model: the model who's parameters we whish to save\n",
        "    :param train_acc: training accuracy obtained by the model\n",
        "    :param val_acc: validation accuracy obtained by the model\n",
        "    :param test_acc: test accuracy obtained by the model\n",
        "    :param epoch: the current epoch of the training process\n",
        "    :retunrs: None\n",
        "    \"\"\"\n",
        "    save_dir = f\"./checkpoints/{paper}/{dataset}\"\n",
        "    checkpoint = {'model_state_dict': model.state_dict(),\n",
        "                  'train_acc': train_acc,\n",
        "                  'val_acc': val_acc,\n",
        "                  'test_acc': test_acc}\n",
        "    if not os.path.isdir(save_dir):\n",
        "        os.makedirs(save_dir)\n",
        "\n",
        "    if epoch == -1:\n",
        "        torch.save(checkpoint, os.path.join(save_dir, f\"best_model\"))\n",
        "    else:\n",
        "        torch.save(checkpoint, os.path.join(save_dir, f\"model_{epoch}\"))"
      ],
      "execution_count": 11,
      "outputs": []
    },
    {
      "cell_type": "code",
      "metadata": {
        "id": "esuH_Ff_faru"
      },
      "source": [
        "_dataset = config.model.dataset\n",
        "_explainer = config.model.paper\n",
        "\n",
        "if _dataset[:3] == \"syn\":\n",
        "   model = train_node(_dataset, _explainer, config.model)"
      ],
      "execution_count": null,
      "outputs": []
    },
    {
      "cell_type": "markdown",
      "metadata": {
        "id": "sxa5I6yu-6A-"
      },
      "source": [
        "# Synthetic dataset"
      ]
    },
    {
      "cell_type": "code",
      "metadata": {
        "colab": {
          "base_uri": "https://localhost:8080/"
        },
        "id": "NWb-EpoR78sM",
        "outputId": "ffa9ff55-f968-48a4-9cb6-6e4cd59242d3"
      },
      "source": [
        "graphs, features, labels, _, _, _ = load_dataset('syn1') # can be one of: syn1(bashapes), syn2(bacommunity), syn3(treecycles), syn4(treegrids), BA-2motif(ba2motifs)\n",
        "graphs = torch.tensor(graphs)\n",
        "features = torch.tensor(features)\n",
        "labels = torch.tensor(labels)"
      ],
      "execution_count": 13,
      "outputs": [
        {
          "output_type": "stream",
          "name": "stdout",
          "text": [
            "Loading syn1 dataset\n"
          ]
        }
      ]
    },
    {
      "cell_type": "markdown",
      "metadata": {
        "id": "24pjc4a1hQMo"
      },
      "source": [
        "#PG Explainer "
      ]
    },
    {
      "cell_type": "code",
      "metadata": {
        "id": "OmD8lilUhChZ"
      },
      "source": [
        "# task = 'graph'\n",
        "task = 'node'"
      ],
      "execution_count": 14,
      "outputs": []
    },
    {
      "cell_type": "code",
      "metadata": {
        "id": "snFeiUn7hUna"
      },
      "source": [
        "from ExplanationEvaluation.explainers.PGExplainer import PGExplainer\n",
        "explainer = PGExplainer(model, graphs, features, task)"
      ],
      "execution_count": 15,
      "outputs": []
    },
    {
      "cell_type": "code",
      "metadata": {
        "colab": {
          "base_uri": "https://localhost:8080/"
        },
        "id": "kclnbTDVhYNz",
        "outputId": "e8472093-34d2-47e3-8f2a-471e55b83065"
      },
      "source": [
        "# We use the same indices as used in the original paper\n",
        "indices = range(400, 700, 5)\n",
        "explainer.prepare(indices)"
      ],
      "execution_count": 16,
      "outputs": [
        {
          "output_type": "stream",
          "name": "stderr",
          "text": [
            "100%|██████████| 30/30 [00:21<00:00,  1.39it/s]\n"
          ]
        }
      ]
    },
    {
      "cell_type": "code",
      "metadata": {
        "id": "TuY1iOw6hjRN"
      },
      "source": [
        "idx = indices[0] # select a node to explain, this needs to be part of the list of indices\n",
        "graph, expl = explainer.explain(idx)"
      ],
      "execution_count": 17,
      "outputs": []
    },
    {
      "cell_type": "code",
      "metadata": {
        "colab": {
          "base_uri": "https://localhost:8080/",
          "height": 247
        },
        "id": "KnWgQHmfhw7H",
        "outputId": "ba5c9759-bc03-4afc-a980-8dcda5d80fd8"
      },
      "source": [
        "from ExplanationEvaluation.utils.plotting import plot\n",
        "plot(graph, expl, labels, 400, 12, 100, 'syn1', show=True)"
      ],
      "execution_count": 18,
      "outputs": [
        {
          "output_type": "display_data",
          "data": {
            "image/png": "[encoded data removed]",
            "text/plain": [
              "<Figure size 432x288 with 1 Axes>"
            ]
          },
          "metadata": {}
        }
      ]
    },
    {
      "cell_type": "code",
      "metadata": {
        "id": "VJjKq2ngh1ZA"
      },
      "source": [
        "for idx in indices:\n",
        "    graph, expl = explainer.explain(idx)\n",
        "    plot(graph, expl, labels, idx, 12, 100, 'syn1', show=True)"
      ],
      "execution_count": null,
      "outputs": []
    },
    {
      "cell_type": "markdown",
      "metadata": {
        "id": "nCTz8atViO5m"
      },
      "source": [
        "# Evaluating the explainer"
      ]
    },
    {
      "cell_type": "code",
      "metadata": {
        "id": "Va-UDDDeiDfE"
      },
      "source": [
        "from ExplanationEvaluation.datasets.ground_truth_loaders import load_dataset_ground_truth\n",
        "explanation_labels, indices = load_dataset_ground_truth('syn1')"
      ],
      "execution_count": 20,
      "outputs": []
    },
    {
      "cell_type": "code",
      "metadata": {
        "id": "eNw-2hZLiTRr"
      },
      "source": [
        "from ExplanationEvaluation.evaluation.AUCEvaluation import AUCEvaluation\n",
        "from ExplanationEvaluation.evaluation.EfficiencyEvaluation import EfficiencyEvluation\n",
        "\n",
        "auc_evaluation = AUCEvaluation(task, explanation_labels, indices)\n",
        "inference_eval = EfficiencyEvluation()"
      ],
      "execution_count": 21,
      "outputs": []
    },
    {
      "cell_type": "code",
      "metadata": {
        "colab": {
          "base_uri": "https://localhost:8080/"
        },
        "id": "JovZryBbA7IT",
        "outputId": "c684e897-3469-4579-f4d5-973bad221907"
      },
      "source": [
        "from ExplanationEvaluation.tasks.replication import run_experiment\n",
        "\n",
        "auc, time = run_experiment(inference_eval, auc_evaluation, explainer, indices)"
      ],
      "execution_count": 23,
      "outputs": [
        {
          "output_type": "stream",
          "name": "stderr",
          "text": [
            "100%|██████████| 30/30 [00:21<00:00,  1.38it/s]\n",
            "100%|██████████| 60/60 [00:02<00:00, 25.98it/s]\n"
          ]
        }
      ]
    },
    {
      "cell_type": "code",
      "metadata": {
        "colab": {
          "base_uri": "https://localhost:8080/"
        },
        "id": "1MOnMmBRCJR8",
        "outputId": "d1fb88f5-ae37-4195-8313-44ce1e1d462f"
      },
      "source": [
        "print(auc)\n",
        "print(time)"
      ],
      "execution_count": 24,
      "outputs": [
        {
          "output_type": "stream",
          "name": "stdout",
          "text": [
            "0.9177562899040008\n",
            "38.632774353027344\n"
          ]
        }
      ]
    },
    {
      "cell_type": "code",
      "metadata": {
        "id": "Uo0PTr7QCSrQ"
      },
      "source": [
        "for idx in indices:\n",
        "    graph, expl = explainer.explain(idx)\n",
        "    plot(graph, expl, labels, idx, 12, 100, 'syn1', show=True)"
      ],
      "execution_count": null,
      "outputs": []
    },
    {
      "cell_type": "markdown",
      "metadata": {
        "id": "xCreKfNkkiwC"
      },
      "source": [
        "# GNNExplainer from Pytorch Geometric"
      ]
    },
    {
      "cell_type": "code",
      "metadata": {
        "colab": {
          "base_uri": "https://localhost:8080/"
        },
        "id": "1xSglYE1m6g_",
        "outputId": "f1c06c63-9fb6-4e60-f250-b83ced728de1"
      },
      "source": [
        "# Syntetic dataset\n",
        "graphs, features, labels, _, _, _ = load_dataset('syn1')\n",
        "explanation_labels, indices = load_dataset_ground_truth('syn1')\n",
        "edge_index = torch.tensor(graphs)\n",
        "features = torch.tensor(features)\n",
        "labels = torch.tensor(labels)\n",
        "edge_label = torch.tensor(explanation_labels[1])"
      ],
      "execution_count": 22,
      "outputs": [
        {
          "output_type": "stream",
          "name": "stdout",
          "text": [
            "Loading syn1 dataset\n"
          ]
        }
      ]
    },
    {
      "cell_type": "code",
      "metadata": {
        "id": "e1ZuaRtbnHfh"
      },
      "source": [
        "# dataset = Data(x=features, edge_index=edge_index, y=labels, edge_label = edge_label)\n",
        "# data = dataset\n",
        "# #print(data)\n",
        "# data.train_mask = data.val_mask = data.test_mask = data.y = None\n",
        "# data = train_test_split_edges(data)"
      ],
      "execution_count": null,
      "outputs": []
    },
    {
      "cell_type": "code",
      "metadata": {
        "id": "bjxZw7aio_X_"
      },
      "source": [
        "# Link prediction\n",
        "\n",
        "import os.path as osp\n",
        "\n",
        "import torch\n",
        "import torch.nn.functional as F\n",
        "from sklearn.metrics import roc_auc_score\n",
        "\n",
        "from torch_geometric.utils import negative_sampling\n",
        "from torch_geometric.datasets import Planetoid\n",
        "import torch_geometric.transforms as T\n",
        "from torch_geometric.nn import GCNConv\n",
        "from torch_geometric.utils import train_test_split_edges\n",
        "\n",
        "\n",
        "class Net(torch.nn.Module):\n",
        "    def __init__(self):\n",
        "        super(Net, self).__init__()\n",
        "        self.conv1 = GCNConv(dataset.num_features, 128)\n",
        "        self.conv2 = GCNConv(128, 64)\n",
        "\n",
        "    def forward(self):\n",
        "        x = self.conv1(data.x, data.train_pos_edge_index) # convolution 1\n",
        "        x = x.relu()\n",
        "        return self.conv2(x, data.train_pos_edge_index) # convolution 2\n",
        "\n",
        "    def decode(self, z, pos_edge_index, neg_edge_index): # only pos and neg edges\n",
        "        edge_index = torch.cat([pos_edge_index, neg_edge_index], dim=-1) # concatenate pos and neg edges\n",
        "        logits = (z[edge_index[0]] * z[edge_index[1]]).sum(dim=-1)  # dot product \n",
        "        return logits\n",
        "\n",
        "    def decode_all(self, z): \n",
        "        prob_adj = z @ z.t() # get adj NxN\n",
        "        return (prob_adj > 0).nonzero(as_tuple=False).t() # get predicted edge_list\n",
        "\n",
        "device = torch.device('cuda' if torch.cuda.is_available() else 'cpu')\n",
        "device = \"cpu\"\n",
        "\n",
        "model, data = Net().to(device), data.to(device)\n",
        "optimizer = torch.optim.Adam(params=model.parameters(), lr=0.01)\n",
        "\n",
        "def get_link_labels(pos_edge_index, neg_edge_index):\n",
        "    # returns a tensor:\n",
        "    # [1,1,1,1,...,0,0,0,0,0,..] with the number of ones is equel to the lenght of pos_edge_index\n",
        "    # and the number of zeros is equal to the length of neg_edge_index\n",
        "    E = pos_edge_index.size(1) + neg_edge_index.size(1)\n",
        "    link_labels = torch.zeros(E, dtype=torch.float, device=device)\n",
        "    link_labels[:pos_edge_index.size(1)] = 1.\n",
        "    return link_labels\n",
        "\n",
        "\n",
        "def train():\n",
        "    model.train()\n",
        "\n",
        "    neg_edge_index = negative_sampling(\n",
        "        edge_index=data.train_pos_edge_index, #positive edges\n",
        "        num_nodes=data.num_nodes, # number of nodes\n",
        "        num_neg_samples=data.train_pos_edge_index.size(1)) # number of neg_sample equal to number of pos_edges\n",
        "\n",
        "    optimizer.zero_grad()\n",
        "    \n",
        "    z = model.forward() #encode\n",
        "    link_logits = model.decode(z, data.train_pos_edge_index, neg_edge_index) # decode\n",
        "    \n",
        "    link_labels = get_link_labels(data.train_pos_edge_index, neg_edge_index)\n",
        "    loss = F.binary_cross_entropy_with_logits(link_logits, link_labels)\n",
        "    loss.backward()\n",
        "    optimizer.step()\n",
        "\n",
        "    return loss\n",
        "\n",
        "\n",
        "@torch.no_grad()\n",
        "def test():\n",
        "    model.eval()\n",
        "    perfs = []\n",
        "    for prefix in [\"val\", \"test\"]:\n",
        "        pos_edge_index = data[f'{prefix}_pos_edge_index']\n",
        "        neg_edge_index = data[f'{prefix}_neg_edge_index']\n",
        "\n",
        "        z = model.forward() # encode train\n",
        "        link_logits = model.decode(z, pos_edge_index, neg_edge_index) # decode test or val\n",
        "        link_probs = link_logits.sigmoid() # apply sigmoid\n",
        "        \n",
        "        link_labels = get_link_labels(pos_edge_index, neg_edge_index) # get link\n",
        "        \n",
        "        perfs.append(roc_auc_score(link_labels.cpu(), link_probs.cpu())) #compute roc_auc score\n",
        "    return perfs\n",
        "\n",
        "\n",
        "\n",
        "best_val_perf = test_perf = 0\n",
        "for epoch in range(1, 101):\n",
        "    train_loss = train()\n",
        "    val_perf, tmp_test_perf = test()\n",
        "    if val_perf > best_val_perf:\n",
        "        best_val_perf = val_perf\n",
        "        test_perf = tmp_test_perf\n",
        "    log = 'Epoch: {:03d}, Loss: {:.4f}, Val: {:.4f}, Test: {:.4f}'\n",
        "    if epoch % 10 == 0:\n",
        "        print(log.format(epoch, train_loss, best_val_perf, test_perf))"
      ],
      "execution_count": null,
      "outputs": []
    },
    {
      "cell_type": "code",
      "metadata": {
        "colab": {
          "base_uri": "https://localhost:8080/",
          "height": 265
        },
        "id": "bsy7euoPiXil",
        "outputId": "f660464d-c07c-4936-d3c9-79c6ed7581f5"
      },
      "source": [
        "# node \n",
        "\n",
        "import os.path as osp\n",
        "\n",
        "import torch\n",
        "import torch.nn.functional as F\n",
        "import matplotlib.pyplot as plt\n",
        "from torch_geometric.datasets import Planetoid\n",
        "import torch_geometric.transforms as T\n",
        "from torch_geometric.nn import GCNConv, GNNExplainer\n",
        "import os\n",
        "\n",
        "# dataset = 'Cora'\n",
        "# path = path = os.path.join(os.getcwd(), 'data', 'Planetoid')\n",
        "# dataset = Planetoid(path, dataset, transform=T.NormalizeFeatures())\n",
        "# data = dataset[0]\n",
        "\n",
        "\n",
        "class Net(torch.nn.Module):\n",
        "    def __init__(self):\n",
        "        super(Net, self).__init__()\n",
        "        self.conv1 = GCNConv(dataset.num_features, 16)\n",
        "        self.conv2 = GCNConv(16, dataset.num_classes)\n",
        "\n",
        "    def forward(self, x, edge_index):\n",
        "        x = F.relu(self.conv1(x, edge_index))\n",
        "        x = F.dropout(x, training=self.training)\n",
        "        x = self.conv2(x, edge_index)\n",
        "        return F.log_softmax(x, dim=1)\n",
        "\n",
        "\n",
        "device = torch.device('cuda' if torch.cuda.is_available() else 'cpu')\n",
        "model = Net().to(device)\n",
        "data = data.to(device)\n",
        "optimizer = torch.optim.Adam(model.parameters(), lr=0.01, weight_decay=5e-4)\n",
        "x, edge_index = data.x, data.edge_index\n",
        "\n",
        "for epoch in range(1, 201):\n",
        "    model.train()\n",
        "    optimizer.zero_grad()\n",
        "    log_logits = model(x, edge_index)\n",
        "    loss = F.nll_loss(log_logits[train_idx], data.y[train_idx])\n",
        "    loss.backward()\n",
        "    optimizer.step()\n",
        "\n",
        "explainer = GNNExplainer(model, epochs=200, return_type='log_prob')\n",
        "node_idx = 402\n",
        "node_feat_mask, edge_mask = explainer.explain_node(node_idx, x, edge_index)\n",
        "ax, G = explainer.visualize_subgraph(node_idx, edge_index, edge_mask, y=data.y)\n",
        "plt.show()\n"
      ],
      "execution_count": null,
      "outputs": [
        {
          "output_type": "stream",
          "name": "stderr",
          "text": [
            "Explain node 402: 100%|██████████| 200/200 [00:00<00:00, 483.67it/s]\n"
          ]
        },
        {
          "output_type": "display_data",
          "data": {
            "image/png": "[encoded data removed]",
            "text/plain": [
              "<Figure size 432x288 with 1 Axes>"
            ]
          },
          "metadata": {}
        }
      ]
    },
    {
      "cell_type": "code",
      "metadata": {
        "colab": {
          "base_uri": "https://localhost:8080/"
        },
        "id": "h8vic8g9vL_a",
        "outputId": "ea76b9ed-eca9-4d8b-9cc9-807b411b4b19"
      },
      "source": [
        "graphs, features, labels, _, _, _ = load_dataset('syn1')\n",
        "explanation_labels, indices = load_dataset_ground_truth('syn1')\n",
        "edge_index = torch.tensor(graphs)\n",
        "features= torch.tensor(features)\n",
        "labels = torch.tensor(labels)\n",
        "edge_label = torch.tensor(explanation_labels[1])"
      ],
      "execution_count": null,
      "outputs": [
        {
          "output_type": "stream",
          "name": "stdout",
          "text": [
            "Loading syn1 dataset\n"
          ]
        }
      ]
    },
    {
      "cell_type": "code",
      "metadata": {
        "colab": {
          "base_uri": "https://localhost:8080/"
        },
        "id": "fZ7cQHgLvTlq",
        "outputId": "57f30796-16b7-4b3f-8ff8-89b1e6e17dd4"
      },
      "source": [
        "from torch_geometric.data import Data\n",
        "dataset = Data(x=features, edge_index=edge_index, y=labels, edge_label = edge_label, num_classes=4)\n",
        "data = dataset\n",
        "print(data)"
      ],
      "execution_count": null,
      "outputs": [
        {
          "output_type": "stream",
          "name": "stdout",
          "text": [
            "Data(x=[700, 10], edge_index=[2, 4110], y=[700], edge_label=[4110], num_classes=4)\n"
          ]
        }
      ]
    },
    {
      "cell_type": "code",
      "metadata": {
        "id": "R_EChVAfw8AU"
      },
      "source": [
        "# for Node classification \n",
        "\n",
        "from sklearn.model_selection import train_test_split\n",
        "idx = torch.arange(data.num_nodes)\n",
        "train_idx, test_idx = train_test_split(idx, train_size=0.8, stratify=data.y)"
      ],
      "execution_count": null,
      "outputs": []
    },
    {
      "cell_type": "code",
      "metadata": {
        "colab": {
          "base_uri": "https://localhost:8080/"
        },
        "id": "sDxz7SN2xPB-",
        "outputId": "b06d57df-3452-43e5-ac15-30468069169a"
      },
      "source": [
        "# for link prediction\n",
        "from torch_geometric.utils import train_test_split_edges\n",
        "data = train_test_split_edges(data)"
      ],
      "execution_count": null,
      "outputs": [
        {
          "output_type": "stream",
          "name": "stderr",
          "text": [
            "/usr/local/lib/python3.7/dist-packages/torch_geometric/deprecation.py:13: UserWarning: 'train_test_split_edges' is deprecated, use 'transforms.RandomLinkSplit' instead\n",
            "  warnings.warn(out)\n"
          ]
        }
      ]
    },
    {
      "cell_type": "markdown",
      "metadata": {
        "id": "ZHFGP0k4OyKP"
      },
      "source": [
        "#BAShapes GNNExplainer from Pytorch geometric"
      ]
    },
    {
      "cell_type": "code",
      "metadata": {
        "id": "oPcuwwXvOxMy"
      },
      "source": [
        "from typing import Optional, Callable\n",
        "\n",
        "import torch\n",
        "from torch_geometric.data import InMemoryDataset, Data\n",
        "from torch_geometric.utils import barabasi_albert_graph\n",
        "\n",
        "\n",
        "def house():\n",
        "    edge_index = torch.tensor([[0, 0, 0, 1, 1, 1, 2, 2, 3, 3, 4, 4],\n",
        "                               [1, 3, 4, 4, 2, 0, 1, 3, 2, 0, 0, 1]])\n",
        "    label = torch.tensor([1, 1, 2, 2, 3])\n",
        "    return edge_index, label\n",
        "\n",
        "\n",
        "class BAShapes(InMemoryDataset):\n",
        "    r\"\"\"The BA-Shapes dataset from the `\"GNNExplainer: Generating Explanations\n",
        "    for Graph Neural Networks\" <https://arxiv.org/pdf/1903.03894.pdf>`_ paper,\n",
        "    containing a Barabasi-Albert (BA) graph with 300 nodes and a set of 80\n",
        "    \"house\"-structured graphs connected to it.\n",
        "\n",
        "    Args:\n",
        "        connection_distribution (string, optional): Specifies how the houses\n",
        "            and the BA graph get connected. Valid inputs are :obj:`\"random\"`\n",
        "            (random BA graph nodes are selected for connection to the houses),\n",
        "            and :obj:`\"uniform\"` (uniformly distributed BA graph nodes are\n",
        "            selected for connection to the houses). (default: :obj:`\"random\"`)\n",
        "        transform (callable, optional): A function/transform that takes in an\n",
        "            :obj:`torch_geometric.data.Data` object and returns a transformed\n",
        "            version. The data object will be transformed before every access.\n",
        "            (default: :obj:`None`)\n",
        "    \"\"\"\n",
        "    def __init__(self, connection_distribution: str = \"random\",\n",
        "                 transform: Optional[Callable] = None):\n",
        "        super().__init__('.', transform)\n",
        "        assert connection_distribution in ['random', 'uniform']\n",
        "\n",
        "        # Build the Barabasi-Albert graph:\n",
        "        num_nodes = 300\n",
        "        edge_index = barabasi_albert_graph(num_nodes, num_edges=5)\n",
        "        edge_label = torch.zeros(edge_index.size(1), dtype=torch.int64)\n",
        "        node_label = torch.zeros(num_nodes, dtype=torch.int64)\n",
        "\n",
        "        # Select nodes to connect shapes:\n",
        "        num_houses = 80\n",
        "        if connection_distribution == 'random':\n",
        "            connecting_nodes = torch.randperm(num_nodes)[:num_houses]\n",
        "        else:\n",
        "            step = num_nodes // num_houses\n",
        "            connecting_nodes = torch.arange(0, num_nodes, step)\n",
        "\n",
        "        # Connect houses to Barabasi-Albert graph:\n",
        "        edge_indices = [edge_index]\n",
        "        edge_labels = [edge_label]\n",
        "        node_labels = [node_label]\n",
        "        for i in range(num_houses):\n",
        "            house_edge_index, house_label = house()\n",
        "\n",
        "            edge_indices.append(house_edge_index + num_nodes)\n",
        "            edge_indices.append(\n",
        "                torch.tensor([[int(connecting_nodes[i]), num_nodes],\n",
        "                              [num_nodes, int(connecting_nodes[i])]]))\n",
        "\n",
        "            edge_labels.append(\n",
        "                torch.ones(house_edge_index.size(1), dtype=torch.long))\n",
        "            edge_labels.append(torch.zeros(2, dtype=torch.long))\n",
        "\n",
        "            node_labels.append(house_label)\n",
        "\n",
        "            num_nodes += 5\n",
        "\n",
        "        edge_index = torch.cat(edge_indices, dim=1)\n",
        "        edge_label = torch.cat(edge_labels, dim=0)\n",
        "        node_label = torch.cat(node_labels, dim=0)\n",
        "\n",
        "        x = torch.ones((num_nodes, 10), dtype=torch.float)\n",
        "        expl_mask = torch.zeros(num_nodes, dtype=torch.bool)\n",
        "        expl_mask[torch.arange(400, num_nodes, 5)] = True\n",
        "\n",
        "        data = Data(x=x, edge_index=edge_index, y=node_label,\n",
        "                    expl_mask=expl_mask, edge_label=edge_label)\n",
        "\n",
        "        self.data, self.slices = self.collate([data])\n"
      ],
      "execution_count": null,
      "outputs": []
    },
    {
      "cell_type": "code",
      "metadata": {
        "id": "xtGqGgqcO-iX"
      },
      "source": [
        "from tqdm import tqdm\n",
        "\n",
        "import torch\n",
        "import torch.nn.functional as F\n",
        "from sklearn.metrics import roc_auc_score\n",
        "from sklearn.model_selection import train_test_split\n",
        "\n",
        "#from torch_geometric.datasets import BAShapes\n",
        "from torch_geometric.nn import GCN, GNNExplainer\n",
        "from torch_geometric.utils import k_hop_subgraph\n",
        "import torch_geometric.transforms as T\n",
        "\n",
        "dataset = BAShapes(transform=T.GCNNorm())\n",
        "data = dataset[0]\n",
        "\n",
        "idx = torch.arange(data.num_nodes)\n",
        "train_idx, test_idx = train_test_split(idx, train_size=0.8, stratify=data.y)\n",
        "\n",
        "device = torch.device('cuda' if torch.cuda.is_available() else 'cpu')\n",
        "data = data.to(device)\n",
        "model = GCN(data.num_node_features, hidden_channels=20, num_layers=3,\n",
        "            out_channels=dataset.num_classes, normalize=False).to(device)\n",
        "optimizer = torch.optim.Adam(model.parameters(), lr=0.001, weight_decay=0.005)\n",
        "\n",
        "\n",
        "def train():\n",
        "    model.train()\n",
        "    optimizer.zero_grad()\n",
        "    out = model(data.x, data.edge_index, data.edge_weight)\n",
        "    loss = F.cross_entropy(out[train_idx], data.y[train_idx])\n",
        "    torch.nn.utils.clip_grad_norm_(model.parameters(), 2.0)\n",
        "    loss.backward()\n",
        "    optimizer.step()\n",
        "    return float(loss)\n",
        "\n",
        "\n",
        "@torch.no_grad()\n",
        "def test():\n",
        "    model.eval()\n",
        "    pred = model(data.x, data.edge_index, data.edge_weight).argmax(dim=-1)\n",
        "\n",
        "    train_correct = int((pred[train_idx] == data.y[train_idx]).sum())\n",
        "    train_acc = train_correct / train_idx.size(0)\n",
        "\n",
        "    test_correct = int((pred[test_idx] == data.y[test_idx]).sum())\n",
        "    test_acc = test_correct / test_idx.size(0)\n",
        "\n",
        "    return train_acc, test_acc\n",
        "\n",
        "\n",
        "for epoch in range(1, 2001):\n",
        "    loss = train()\n",
        "    if epoch % 200 == 0:\n",
        "        train_acc, test_acc = test()\n",
        "        print(f'Epoch: {epoch:04d}, Loss: {loss:.4f}, '\n",
        "              f'Train: {train_acc:.4f}, Test: {test_acc:.4f}')\n",
        "\n",
        "model.eval()\n",
        "targets, preds = [], []\n",
        "expl = GNNExplainer(model, epochs=300, return_type='raw', log=False)\n",
        "\n",
        "# Explanation ROC AUC over all test nodes:\n",
        "self_loop_mask = data.edge_index[0] != data.edge_index[1]\n",
        "for node_idx in tqdm(data.expl_mask.nonzero(as_tuple=False).view(-1).tolist()):\n",
        "    _, expl_edge_mask = expl.explain_node(node_idx, data.x, data.edge_index,\n",
        "                                          edge_weight=data.edge_weight)\n",
        "    subgraph = k_hop_subgraph(node_idx, num_hops=3, edge_index=data.edge_index)\n",
        "    expl_edge_mask = expl_edge_mask[self_loop_mask]\n",
        "    subgraph_edge_mask = subgraph[3][self_loop_mask]\n",
        "    targets.append(data.edge_label[subgraph_edge_mask].cpu())\n",
        "    preds.append(expl_edge_mask[subgraph_edge_mask].cpu())\n",
        "\n",
        "auc = roc_auc_score(torch.cat(targets), torch.cat(preds))\n",
        "print(f'Mean ROC AUC: {auc:.4f}')"
      ],
      "execution_count": null,
      "outputs": []
    },
    {
      "cell_type": "code",
      "metadata": {
        "id": "qoshYYWkPGVp"
      },
      "source": [
        "indices = range(400, 700, 5)"
      ],
      "execution_count": null,
      "outputs": []
    },
    {
      "cell_type": "code",
      "metadata": {
        "id": "c_PVfi37PIOW"
      },
      "source": [
        "node_idx = 410# select a node to explain, this needs to be part of the list of indices\n",
        "#graph, expl = explainer.explain(idx)"
      ],
      "execution_count": null,
      "outputs": []
    },
    {
      "cell_type": "code",
      "metadata": {
        "id": "MC7-P0cbPKyI"
      },
      "source": [
        "import matplotlib.pyplot as plt\n",
        "\n",
        "explainer = GNNExplainer(model, epochs=200, return_type='log_prob')\n",
        "#node_idx = 402\n",
        "node_feat_mask, edge_mask = explainer.explain_node(node_idx, data.x, data.edge_index)\n",
        "ax, G = explainer.visualize_subgraph(node_idx, data.edge_index, edge_mask, y=data.y)\n",
        "plt.show()"
      ],
      "execution_count": null,
      "outputs": []
    }
  ]
}