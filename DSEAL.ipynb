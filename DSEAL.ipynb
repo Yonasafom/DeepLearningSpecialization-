{
  "nbformat": 4,
  "nbformat_minor": 0,
  "metadata": {
    "colab": {
      "name": "DSEAL.ipynb",
      "provenance": [],
      "collapsed_sections": [
        "ARj1IqkEE74a"
      ],
      "authorship_tag": "ABX9TyMylVkRrM+0OG6stcq4XIzz",
      "include_colab_link": true
    },
    "kernelspec": {
      "name": "python3",
      "display_name": "Python 3"
    },
    "language_info": {
      "name": "python"
    },
    "accelerator": "GPU"
  },
  "cells": [
    {
      "cell_type": "markdown",
      "metadata": {
        "id": "view-in-github",
        "colab_type": "text"
      },
      "source": [
        "<a href=\"https://colab.research.google.com/github/Yonasafom/DeepLearningSpecialization-/blob/main/DSEAL.ipynb\" target=\"_parent\"><img src=\"https://colab.research.google.com/assets/colab-badge.svg\" alt=\"Open In Colab\"/></a>"
      ]
    },
    {
      "cell_type": "code",
      "execution_count": null,
      "metadata": {
        "id": "WKCICoTGsyio"
      },
      "outputs": [],
      "source": [
        "!pip install torch-scatter -f https://data.pyg.org/whl/torch-1.10.0+cu111.html\n",
        "!pip install torch-sparse -f https://data.pyg.org/whl/torch-1.10.0+cu111.html\n",
        "!pip install torch-geometric\n",
        "!pip install stellargraph"
      ]
    },
    {
      "cell_type": "code",
      "source": [
        "!git clone https://github.com/facebookresearch/SEAL_OGB.git\n",
        "!git clone https://github.com/matthew-hirn/magnet.git\n",
        "!git clone https://github.com/XitongZhang1994/SimpleMagNet.git"
      ],
      "metadata": {
        "id": "Rwb7CTouk1f3",
        "colab": {
          "base_uri": "https://localhost:8080/"
        },
        "outputId": "7bbcc5fa-b508-4255-ba7b-ef2298a07ff3"
      },
      "execution_count": 50,
      "outputs": [
        {
          "output_type": "stream",
          "name": "stdout",
          "text": [
            "fatal: destination path 'SEAL' already exists and is not an empty directory.\n",
            "fatal: destination path 'SEAL_OGB' already exists and is not an empty directory.\n",
            "fatal: destination path 'magnet' already exists and is not an empty directory.\n",
            "fatal: destination path 'SimpleMagNet' already exists and is not an empty directory.\n"
          ]
        }
      ]
    },
    {
      "cell_type": "code",
      "source": [
        "# Mount your local google drive\n",
        "from google.colab import drive\n",
        "drive.mount('/content/gdrive', force_remount=True)"
      ],
      "metadata": {
        "colab": {
          "base_uri": "https://localhost:8080/"
        },
        "id": "w5f2ffams1Dk",
        "outputId": "773153d4-ae7e-4647-beda-d02143490ba8"
      },
      "execution_count": 51,
      "outputs": [
        {
          "output_type": "stream",
          "name": "stdout",
          "text": [
            "Mounted at /content/gdrive\n"
          ]
        }
      ]
    },
    {
      "cell_type": "markdown",
      "source": [
        "#### Orginal directed datasets. \n",
        "We can get the directed **citation graphs** using the **\"load_citation_link\"** function which is avialable in the **citation **file. It takes the raw .npz file as an argument. \n",
        "\n",
        "The directed version of WebKB, WikipediaNetwork and WikiCS  can be obtained using \"load_func\" function. Which is available in the Edge_sparseMagnet file. It takes the undirected  torch_geometric.datasets version as an argument.\n",
        "\n",
        "#### **Postive and negative Edge samples for Link prediction task.**\n",
        "\n",
        "To do Link prediciton task, directd postive and negative edges are sampled from the original directed graph. To get the directed postive and negative samples for train, val and test with their respective labels can taken from  \"generate_dataset_2class\" function in edge_data file of magnet with some modification is used. Eedge index and probablity of sampling is given as an argument."
      ],
      "metadata": {
        "id": "AQFXrJnekUsN"
      }
    },
    {
      "cell_type": "code",
      "source": [
        "# # Initial Data processing \n",
        "from hermitian import *\n",
        "from edge_data import * # generate_dataset_2class, in_out_degree, link_prediction_evaluation\n",
        "from preprocess import * # to_edge_dataset_sparse, load_syn\n",
        "from Citation import load_citation_link"
      ],
      "metadata": {
        "id": "Wh7X7I5AgUfu"
      },
      "execution_count": 53,
      "outputs": []
    },
    {
      "cell_type": "code",
      "source": [
        "#Original directed data\n",
        "dataset = torch.load(\"/content/DSEAL/WebKB/Cornell/cornell/processed/data.pt\")\n",
        "#dataset = torch.load(\"WebKB/Cornell/cornell/data.pt\")\n",
        "\n",
        "if 'dataset' in locals():\n",
        "  data = dataset[0]\n",
        "  edge_index = data.edge_index\n",
        "\n",
        "# Get Edge based splitting for link prediction  \n",
        "datasets = generate_dataset_2class(edge_index, data, splits = 1 , test_prob = 0.3)\n",
        "torch.save(datasets, \"/content/DSEAL/datasets_edge_2class.pt\")\n",
        "\n",
        "# print(datasets[0]['graph'] [\"x\"] )\n",
        "# datasets = generate_dataset_3class(edge_index, size, save_file, splits = 10, probs = args.split_prob, task=args.task, label_dim=args.num_class_link)"
      ],
      "metadata": {
        "id": "ikKk9EQbaM9Q"
      },
      "execution_count": 54,
      "outputs": []
    },
    {
      "cell_type": "code",
      "source": [
        "datasets[0].keys()"
      ],
      "metadata": {
        "colab": {
          "base_uri": "https://localhost:8080/"
        },
        "id": "CE7rM1DY3pzk",
        "outputId": "2c407195-b1a8-472b-cb3f-d54fbc0043aa"
      },
      "execution_count": 55,
      "outputs": [
        {
          "output_type": "execute_result",
          "data": {
            "text/plain": [
              "dict_keys(['graph', 'undirected', 'train_pos_neg', 'train_pair_label', 'val_pos_neg', 'val_pair_label', 'test_pos_neg', 'test_pair_label'])"
            ]
          },
          "metadata": {},
          "execution_count": 55
        }
      ]
    },
    {
      "cell_type": "code",
      "source": [
        "!cd SEAL_OGB/\n",
        "#  os.mkdir(\"DSEAL_data\")"
      ],
      "metadata": {
        "id": "KJX6HQN_evdu"
      },
      "execution_count": 56,
      "outputs": []
    },
    {
      "cell_type": "markdown",
      "source": [
        "### K hop subgraphs for the sampled postive and negative edges.\n",
        "\n",
        "K hop enclosing subgraphs with for the train, val and test of the directed edges can be extracted using the **extract_enclosing_subgraphs** function available in the **utils** file of the SEAL_OGB. The edges, the adjacecy matrix of the original graph and type of labeling trick is provided as an argument."
      ],
      "metadata": {
        "id": "oT7pL8CA57r6"
      }
    },
    {
      "cell_type": "code",
      "source": [
        "# Subgraph Extraction Imports\n",
        "\n",
        "import argparse\n",
        "import time\n",
        "import os, sys\n",
        "import os.path as osp\n",
        "from shutil import copy\n",
        "import copy as cp\n",
        "from tqdm import tqdm\n",
        "import pdb\n",
        "\n",
        "import numpy as np\n",
        "from sklearn.metrics import roc_auc_score\n",
        "import scipy.sparse as ssp\n",
        "import torch\n",
        "from torch.nn import BCEWithLogitsLoss\n",
        "from torch.utils.data import DataLoader\n",
        "\n",
        "from torch_sparse import coalesce\n",
        "import torch_geometric.transforms as T\n",
        "from torch_geometric.datasets import Planetoid\n",
        "from torch_geometric.data import Data, Dataset, InMemoryDataset, DataLoader\n",
        "from torch_geometric.utils import to_networkx, to_undirected\n",
        "\n",
        "# from ogb.linkproppred import PygLinkPropPredDataset, Evaluator\n",
        "\n",
        "import warnings\n",
        "from scipy.sparse import SparseEfficiencyWarning\n",
        "warnings.simplefilter('ignore', SparseEfficiencyWarning)\n",
        "# from utils import Logger\n",
        "from SEAL_OGB.utils import *\n",
        "# from models import *"
      ],
      "metadata": {
        "id": "cy2W6pjHMipd"
      },
      "execution_count": 57,
      "outputs": []
    },
    {
      "cell_type": "code",
      "source": [
        "class SEALDataset(InMemoryDataset):\n",
        "    def __init__(self, root, data, pos_edge, neg_edge, num_hops, percent=100, split='train', \n",
        "                 use_coalesce=False, node_label='drnl', ratio_per_hop=1.0, \n",
        "                 max_nodes_per_hop=None, directed=True):\n",
        "        self.data = data\n",
        "        self.pos_edge = pos_edge\n",
        "        self.neg_edge = neg_edge\n",
        "        # self.split_edge = split_edge\n",
        "        self.num_hops = num_hops\n",
        "        self.percent = int(percent) if percent >= 1.0 else percent\n",
        "        self.split = split\n",
        "        self.use_coalesce = use_coalesce\n",
        "        self.node_label = node_label\n",
        "        self.ratio_per_hop = ratio_per_hop\n",
        "        self.max_nodes_per_hop = max_nodes_per_hop\n",
        "        self.directed = directed\n",
        "        super(SEALDataset, self).__init__(root)\n",
        "        self.data, self.slices = torch.load(self.processed_paths[0])\n",
        "        # self.links = []\n",
        "\n",
        "    @property\n",
        "    def processed_file_names(self):\n",
        "        if self.percent == 100:\n",
        "            name = 'SEAL_{}_data'.format(self.split)\n",
        "        else:\n",
        "            name = 'SEAL_{}_data_{}'.format(self.split, self.percent)\n",
        "        name += '.pt'\n",
        "        return [name]\n",
        "\n",
        " \n",
        "    \n",
        "    def process(self):\n",
        "        # pos_edge, neg_edge = get_pos_neg_edges(self.split, self.split_edge, \n",
        "        #                                        self.data.edge_index, \n",
        "        #                                        self.data.num_nodes, \n",
        "        #                                        self.percent)\n",
        "        \n",
        "        \n",
        "        # self.links = torch.cat([pos_edge, neg_edge], 1).t().tolist()\n",
        "\n",
        "        if self.use_coalesce:  # compress mutli-edge into edge with weight\n",
        "            self.data.edge_index, self.data.edge_weight = coalesce(\n",
        "                self.data.edge_index, self.data.edge_weight, \n",
        "                self.data.num_nodes, self.data.num_nodes)\n",
        "\n",
        "        if 'edge_weight' in self.data:\n",
        "            edge_weight = self.data.edge_weight.view(-1)\n",
        "        else:\n",
        "            edge_weight = torch.ones(self.data.edge_index.size(1), dtype=int)\n",
        "        A = ssp.csr_matrix(\n",
        "            (edge_weight, (self.data.edge_index[0], self.data.edge_index[1])), \n",
        "            shape=(self.data.num_nodes, self.data.num_nodes)\n",
        "        )\n",
        "\n",
        "        if self.directed:\n",
        "            A_csc = A.tocsc()\n",
        "        else:\n",
        "            A_csc = None\n",
        "        \n",
        "        #sample\n",
        "        pos = pos_edge.T[0:10].T\n",
        "        neg = neg_edge.T[0:10].T\n",
        "        pairs = torch.cat((pos, neg), axis=-1)\n",
        "        torch.save(pairs, \"/content/test_pairs.pt\")\n",
        "\n",
        "        # Extract enclosing subgraphs for pos and neg edge\n",
        "        pos_list = extract_enclosing_subgraphs(\n",
        "            self.pos_edge, A, self.data.x, 1, self.num_hops, self.node_label, \n",
        "            self.ratio_per_hop, self.max_nodes_per_hop, self.directed, A_csc)\n",
        "        \n",
        "        neg_list = extract_enclosing_subgraphs(\n",
        "            self.neg_edge, A, self.data.x, 0, self.num_hops, self.node_label, \n",
        "            self.ratio_per_hop, self.max_nodes_per_hop, self.directed, A_csc)\n",
        "        \n",
        "        # pairs, label = label_pairs_gen(pos, neg)\n",
        "        # np.save('/content/pos_edge.npy', pos, allow_pickle=True)\n",
        "        # np.save('/content/neg_edge.npy', neg, allow_pickle=True)\n",
        "        # torch.save(pos, \"/content/pos_edge.pt\")\n",
        "\n",
        "        dataset_truth = {}\n",
        "        torch.save(self.collate(pos_list + neg_list), self.processed_paths[0])\n",
        "        del neg_list, pos_list"
      ],
      "metadata": {
        "id": "GYOa2FHXtHm1"
      },
      "execution_count": 58,
      "outputs": []
    },
    {
      "cell_type": "code",
      "source": [
        "# Subgraph extraction settings\n",
        "parser = argparse.ArgumentParser(description='(SEAL)')\n",
        "parser.add_argument('--num_hops', type=int, default=1)\n",
        "parser.add_argument('--ratio_per_hop', type=float, default=1.0)\n",
        "parser.add_argument('--max_nodes_per_hop', type=int, default=None)\n",
        "parser.add_argument('--node_label', type=str, default='drnl', \n",
        "                    help=\"which specific labeling trick to use\")\n",
        "parser.add_argument('--use_feature', action='store_true', \n",
        "                    help=\"whether to use raw node features as GNN input\")\n",
        "parser.add_argument('--use_edge_weight', action='store_true', \n",
        "                    help=\"whether to consider edge weight in GNN\")\n",
        "\n",
        "args = parser.parse_args([])\n",
        "\n",
        "#\n",
        "use_coalesce = False \n",
        "\n",
        "args.num_workers = 0\n",
        "\n",
        "directed = True\n",
        "args.dynamic_train = False\n",
        "args.dynamic_val  = False\n",
        "\n",
        "args.dynamic_test = False\n",
        "args.num_hops = 2\n",
        "directed = True\n",
        "\n",
        "#device\n",
        "device = torch.device('cuda' if torch.cuda.is_available() else 'cpu')"
      ],
      "metadata": {
        "id": "Eq2SVQ5Vtile"
      },
      "execution_count": 59,
      "outputs": []
    },
    {
      "cell_type": "markdown",
      "source": [
        "####Overhere, we are getting the PyG in memory dataset for  for all the sampled linkes of the train, val and test as a list of PyG dataset. At this point we are not fellowing the dynamic extracting process."
      ],
      "metadata": {
        "id": "7m6Qc8NtHYTu"
      }
    },
    {
      "cell_type": "code",
      "source": [
        "#Data\n",
        "data = datasets[0]['graph']['data']\n",
        "!mkdir \"DSEAL_data\"\n",
        "path = \"DSEAL_data\"\n",
        "\n",
        "#Training SEAL dataset\n",
        "pos_edge = datasets[0]['train_pos_neg']['pos']\n",
        "neg_edge = datasets[0]['train_pos_neg']['neg']\n",
        "\n",
        "data.edge_index = pos_edge # split_edge['train']['edge'].t()\n",
        "dataset_class = 'SEALDynamicDataset' if args.dynamic_train else 'SEALDataset'\n",
        "train_dataset = eval(dataset_class)(\n",
        "    path, \n",
        "    data,\n",
        "    pos_edge,\n",
        "    neg_edge, \n",
        "    num_hops=args.num_hops, \n",
        "    percent=100, \n",
        "    split='train', \n",
        "    use_coalesce=use_coalesce, \n",
        "    node_label=args.node_label, \n",
        "    ratio_per_hop=args.ratio_per_hop, \n",
        "    max_nodes_per_hop=args.max_nodes_per_hop, \n",
        "    directed=directed, \n",
        ") \n",
        "\n",
        "\n",
        "#Val SEAL dataset\n",
        "pos_edge =  datasets[0]['val_pos_neg']['pos'] \n",
        "neg_edge = datasets[0]['val_pos_neg'] ['neg'] \n",
        "dataset_class = 'SEALDynamicDataset' if args.dynamic_val else 'SEALDataset'\n",
        "val_dataset = eval(dataset_class)(\n",
        "    path, \n",
        "    data,\n",
        "    pos_edge,\n",
        "    neg_edge, \n",
        "    num_hops=args.num_hops, \n",
        "    percent=100, \n",
        "    split='valid', \n",
        "    use_coalesce=use_coalesce, \n",
        "    node_label=args.node_label, \n",
        "    ratio_per_hop=args.ratio_per_hop, \n",
        "    max_nodes_per_hop=args.max_nodes_per_hop, \n",
        "    directed=directed,\n",
        "\n",
        ")\n",
        "\n",
        "# Test SEAL dataset\n",
        "\n",
        "pos_edge =  datasets[0]['test_pos_neg']['pos'] \n",
        "neg_edge = datasets[0]['test_pos_neg'] ['neg'] \n",
        "pos_edge = pos_edge.to(device)\n",
        "neg_edge = neg_edge.to(device)\n",
        "dataset_class = 'SEALDynamicDataset' if args.dynamic_test else 'SEALDataset'\n",
        "test_dataset = eval(dataset_class)(\n",
        "    path, \n",
        "    data,\n",
        "    pos_edge,\n",
        "    neg_edge, \n",
        "    num_hops=args.num_hops, \n",
        "    percent=100, \n",
        "    split='test', \n",
        "    use_coalesce=use_coalesce, \n",
        "    node_label=args.node_label, \n",
        "    ratio_per_hop=args.ratio_per_hop, \n",
        "    max_nodes_per_hop=args.max_nodes_per_hop, \n",
        "    directed=directed,\n",
        "\n",
        ")"
      ],
      "metadata": {
        "id": "KFaQl_N8lvfP",
        "colab": {
          "base_uri": "https://localhost:8080/"
        },
        "outputId": "cc07aeed-285c-4a1e-ecc7-344b22e1807a"
      },
      "execution_count": 60,
      "outputs": [
        {
          "output_type": "stream",
          "name": "stdout",
          "text": [
            "mkdir: cannot create directory ‘DSEAL_data’: File exists\n"
          ]
        }
      ]
    },
    {
      "cell_type": "markdown",
      "source": [
        "### Sub graph claassification \n",
        "Using the Extracted subgraphs of train, val and test we perform subgraph classification. The subgraph referes to each link in the postive and negative links. The Labeling trick added, makes each subgraph's structural representation different from the rest of the subgraphs by providing positional encoding. This avoids the isomorphism issue of GNN for multiset representation learning, if the nodes get their representation learning independently."
      ],
      "metadata": {
        "id": "63NqAxJOLZiJ"
      }
    },
    {
      "cell_type": "markdown",
      "source": [
        "![Screen Shot 2022-04-24 at 7.01.52 PM.png](data:image/png;base64,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)"
      ],
      "metadata": {
        "id": "AWwaZfC_CZzU"
      }
    },
    {
      "cell_type": "markdown",
      "source": [
        "###Here We are trying to fork Magnet model for subgraph classification "
      ],
      "metadata": {
        "id": "9laXusmLCqWr"
      }
    },
    {
      "cell_type": "code",
      "source": [
        "# Magnet: parameter setting \n",
        "\n",
        "def parse_args():\n",
        "    parser = argparse.ArgumentParser(description=\"link prediction of MagNet\")\n",
        "    parser.add_argument('--log_root', type=str, default='../logs/', help='the path saving model.t7 and the training process')\n",
        "    parser.add_argument('--log_path', type=str, default='test', help='the path saving model.t7 and the training process, the name of folder will be log/(current time)')\n",
        "    parser.add_argument('--data_path', type=str, default='../dataset/data/tmp/', help='data set folder, for default format see dataset/cora/cora.edges and cora.node_labels')\n",
        "    parser.add_argument('--dataset', type=str, default='', help='data set selection')\n",
        "    \n",
        "    \n",
        "    parser.add_argument('--split_prob', type=lambda s: [float(item) for item in s.split(',')], default=\"0.15,0.05\", help='random drop for testing/validation/training edges (for 3-class classification only)')\n",
        "    parser.add_argument('--task', type=int, default=2, help='2: 2-class classification 3: 3-class classification')\n",
        "    \n",
        "    parser.add_argument('--epochs', type=int, default=1500, help='training epochs')\n",
        "    parser.add_argument('--num_filter', type=int, default=4, help='num of filters')\n",
        "    parser.add_argument('-not_norm', '-n', action='store_false', help='if use normalized laplacian or not, default: yes')\n",
        "\n",
        "    parser.add_argument('--method_name', type=str, default='MagNet_Edge', help='method name')\n",
        "    parser.add_argument('--batch_size', type=int, default=32)\n",
        "    parser.add_argument('--q', type=float, default=0, help='q value for the phase matrix')\n",
        "    parser.add_argument('--K', type=int, default=1, help='K for cheb series')\n",
        "    parser.add_argument('--layer', type=int, default=2, help='how many layers of gcn in the model, only 1 or 2 layers.')\n",
        "\n",
        "    parser.add_argument('--num_workers', type=int, default=0, \n",
        "                    help=\"number of workers for dynamic mode; 0 if not dynamic\")\n",
        "\n",
        "    parser.add_argument('--dropout', type=float, default=0.5, help='dropout prob')\n",
        "    parser.add_argument('--debug', '-D', action='store_true', help='debug mode')\n",
        "    parser.add_argument('--num_class_link', type=int, default=2,\n",
        "                        help='number of classes for link direction prediction(2 or 3).')\n",
        "\n",
        "    parser.add_argument('--lr', type=float, default=1e-3, help='learning rate')\n",
        "    parser.add_argument('--l2', type=float, default=5e-4, help='l2 regularizer')\n",
        "    return parser.parse_args([])"
      ],
      "metadata": {
        "id": "qTnIk5BXki-C"
      },
      "execution_count": 61,
      "outputs": []
    },
    {
      "cell_type": "markdown",
      "source": [
        "### Mini-batching of the subgraphs\n",
        "\n",
        "For full GPU utilization the subgraphs get batched before inputing them into the GNN. \n",
        "\n",
        "PyG acheive baching by stacking the adjacency matrices in a diagonal fashion (creating a giant graph that holds multiple isolated subgraphs), and node and target features get concatenated in the node dimension.\n",
        "\n",
        "PyG use DataLoader classes for batching. https://pytorch-geometric.readthedocs.io/en/latest/modules/data.html#torch_geometric.data.DataLoader)"
      ],
      "metadata": {
        "id": "5zto2ibGC-E7"
      }
    },
    {
      "cell_type": "markdown",
      "source": [
        "![Screen Shot 2022-04-24 at 7.24.12 PM.png](data:image/png;base64,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)"
      ],
      "metadata": {
        "id": "mWq-OaA3GF_H"
      }
    },
    {
      "cell_type": "code",
      "source": [
        "# Dataloader\n",
        "args = parse_args()\n",
        "\n",
        "train_loader = DataLoader(train_dataset, batch_size=args.batch_size, \n",
        "                      shuffle=True, num_workers=args.num_workers)\n",
        "val_loader = DataLoader(val_dataset, batch_size=args.batch_size, \n",
        "                    num_workers=args.num_workers)\n",
        "test_loader = DataLoader(test_dataset, batch_size=args.batch_size, \n",
        "                      num_workers=args.num_workers)"
      ],
      "metadata": {
        "id": "CV2m2lV93h21",
        "colab": {
          "base_uri": "https://localhost:8080/"
        },
        "outputId": "daba6b8e-64f0-4dfd-a3c5-72fdbcc029f1"
      },
      "execution_count": 62,
      "outputs": [
        {
          "output_type": "stream",
          "name": "stderr",
          "text": [
            "/usr/local/lib/python3.7/dist-packages/torch_geometric/deprecation.py:12: UserWarning: 'data.DataLoader' is deprecated, use 'loader.DataLoader' instead\n",
            "  warnings.warn(out)\n"
          ]
        }
      ]
    },
    {
      "cell_type": "code",
      "source": [
        "# This are some external files used during classification \n",
        "\n",
        "import torch, math\n",
        "import torch.nn as nn\n",
        "import torch.nn.functional as F\n",
        "from torch_sparse import SparseTensor\n",
        "from torch.nn import (ModuleList, Linear, Conv1d, MaxPool1d, Embedding, ReLU, \n",
        "                      Sequential, BatchNorm1d as BN)\n",
        "from torch_geometric.nn import (GCNConv, SAGEConv, GINConv, \n",
        "                                global_sort_pool, global_add_pool, global_mean_pool)\n",
        "\n",
        "import numpy as np\n",
        "import pickle as pk\n",
        "from scipy import sparse\n",
        "import torch.optim as optim\n",
        "from datetime import datetime\n",
        "import os, time, argparse, csv\n",
        "from collections import Counter\n",
        "import torch.nn.functional as F\n",
        "from torch_sparse import SparseTensor\n",
        "from sklearn.model_selection import train_test_split\n",
        "from torch.optim.lr_scheduler import CosineAnnealingLR\n",
        "from torch_geometric.datasets import WebKB, WikipediaNetwork, WikiCS\n",
        "from torch_geometric.data.batch import *"
      ],
      "metadata": {
        "id": "182xBLloznfh"
      },
      "execution_count": 63,
      "outputs": []
    },
    {
      "cell_type": "code",
      "source": [
        "#The MagConv taken from magnet which need to be forked for graph classification task\n",
        "\n",
        "def process(mul_L_real, mul_L_imag, weight, X_real, X_imag):\n",
        "    data = torch.spmm(mul_L_real, X_real)\n",
        "    real = torch.matmul(data, weight) \n",
        "    data = -1.0*torch.spmm(mul_L_imag, X_imag)\n",
        "    real += torch.matmul(data, weight) \n",
        "    \n",
        "    data = torch.spmm(mul_L_imag, X_real)\n",
        "    imag = torch.matmul(data, weight)\n",
        "    data = torch.spmm(mul_L_real, X_imag)\n",
        "    imag += torch.matmul(data, weight)\n",
        "    return torch.stack([real, imag])\n",
        "\n",
        "class MagConv(nn.Module):\n",
        "    \"\"\"\n",
        "    The MagNet convolution operation.\n",
        "\n",
        "    :param in_c: int, number of input channels.\n",
        "    :param out_c: int, number of output channels.\n",
        "    :param K: int, the order of Chebyshev Polynomial.\n",
        "    :param L_norm_real, L_norm_imag: normalized laplacian of real and imag\n",
        "    \"\"\"\n",
        "    def __init__(self, in_c, out_c, K, bias=True):\n",
        "        super(MagConv, self).__init__()\n",
        "\n",
        "\n",
        "        self.weight = nn.Parameter(torch.Tensor(K + 1, in_c, out_c))  # [K+1, 1, in_c, out_c]\n",
        "\n",
        "        stdv = 1. / math.sqrt(self.weight.size(-1))\n",
        "        self.weight.data.uniform_(-stdv, stdv)\n",
        "\n",
        "        if bias:\n",
        "            self.bias = nn.Parameter(torch.Tensor(1, out_c))\n",
        "            nn.init.zeros_(self.bias)\n",
        "        else:\n",
        "            self.register_parameter(\"bias\", None)\n",
        "\n",
        "    def forward(self, data, L_norm_real, L_norm_imag):\n",
        "\n",
        "        \"\"\"\n",
        "        :param inputs: the input data, real [B, N, C], img [B, N, C]\n",
        "        :param L_norm_real, L_norm_imag: the laplace, [N, N], [N,N]\n",
        "        \"\"\"\n",
        "        L_norm_real, L_norm_imag = L_norm_real, L_norm_imag\n",
        "\n",
        "        # list of K sparsetensors, each is N by N\n",
        "        self.mul_L_real = L_norm_real   # [K, N, N]\n",
        "        self.mul_L_imag = L_norm_imag   # [K, N, N]\n",
        "        X_real, X_imag = data[0], data[1]\n",
        "\n",
        "        real = 0.0\n",
        "        imag = 0.0\n",
        "\n",
        "        future = []\n",
        "        for i in range(len(self.mul_L_real)): # [K, B, N, D]\n",
        "            future.append(torch.jit.fork(process, \n",
        "                            self.mul_L_real[i], self.mul_L_imag[i], \n",
        "                            self.weight[i], X_real, X_imag))\n",
        "        result = []\n",
        "        for i in range(len(self.mul_L_real)):\n",
        "            result.append(torch.jit.wait(future[i]))\n",
        "        result = torch.sum(torch.stack(result), dim=0)\n",
        "\n",
        "        real = result[0]\n",
        "        imag = result[1]\n",
        "        return real + self.bias, imag + self.bias\n",
        "\n",
        "\n",
        "class complex_relu_layer(nn.Module):\n",
        "    def __init__(self, ):\n",
        "        super(complex_relu_layer, self).__init__()\n",
        "    \n",
        "    def complex_relu(self, real, img):\n",
        "        mask = 1.0*(real >= 0)\n",
        "        return mask*real, mask*img\n",
        "\n",
        "    def forward(self, real, img=None):\n",
        "        # for torch nn sequential usage\n",
        "        # in this case, x_real is a tuple of (real, img)\n",
        "        if img == None:\n",
        "            img = real[1]\n",
        "            real = real[0]\n",
        "\n",
        "        real, img = self.complex_relu(real, img)\n",
        "        return real, img\n"
      ],
      "metadata": {
        "id": "L12Gk_oG8lYj"
      },
      "execution_count": 75,
      "outputs": []
    },
    {
      "cell_type": "code",
      "source": [
        "# For node classification task\n",
        "\n",
        "class MagNet(nn.Module):\n",
        "    def __init__(self, in_c, L_norm_real, L_norm_imag, num_filter=2, K=2, label_dim=2, layer=2, dropout=False):\n",
        "        \"\"\"\n",
        "        :param in_c: int, number of input channels.\n",
        "        :param hid_c: int, number of hidden channels.\n",
        "        :param K: for cheb series\n",
        "        :param L_norm_real, L_norm_imag: normalized laplacian\n",
        "        \"\"\"\n",
        "        super(MagNet, self).__init__()\n",
        "\n",
        "        activation_func = complex_relu_layer\n",
        "\n",
        "        chebs = [MagConv(in_c=in_c, out_c=num_filter, K=K, L_norm_real=L_norm_real, L_norm_imag=L_norm_imag)]\n",
        "        chebs.append(activation_func())\n",
        "\n",
        "        for i in range(1, layer):\n",
        "            chebs.append(MagConv(in_c=num_filter, out_c=num_filter, K=K, L_norm_real=L_norm_real, L_norm_imag=L_norm_imag))\n",
        "            chebs.append(activation_func())\n",
        "\n",
        "        self.Chebs = torch.nn.Sequential(*chebs)\n",
        "\n",
        "        last_dim = 2  \n",
        "        self.Conv = nn.Conv1d(num_filter*last_dim, label_dim, kernel_size=1)        \n",
        "        self.dropout = dropout\n",
        "\n",
        "    def forward(self, real, imag, L_norm_real, L_norm_imag, z_emb, batch):\n",
        "        real, imag = self.Chebs((real, imag), L_norm_real=L_norm_real, L_norm_imag=L_norm_imag)\n",
        "        x = torch.cat((real, imag), dim = -1)\n",
        "        \n",
        "        if self.dropout > 0:\n",
        "            x = F.dropout(x, self.dropout, training=self.training)\n",
        "\n",
        "        x = x.unsqueeze(0)\n",
        "        x = x.permute((0,2,1))\n",
        "        x = self.Conv(x)\n",
        "        x = F.log_softmax(x, dim=1)\n",
        "        return x"
      ],
      "metadata": {
        "id": "O17V2Y7YR0-m"
      },
      "execution_count": 65,
      "outputs": []
    },
    {
      "cell_type": "code",
      "source": [
        "# Magnet link prediction. We need to fork it to subgraph classification \n",
        "\n",
        "\n",
        "class MagNet_Edge(nn.Module):\n",
        "    def __init__(self, in_c, num_filter=2, K=2, label_dim = 2, layer = 2, dropout = False):\n",
        "        super(MagNet_Edge, self).__init__()\n",
        "\n",
        "        # self.z_emb = z_emb\n",
        "        activation_func = complex_relu_layer\n",
        "\n",
        "        self.z_embedding = Embedding(1000, in_c)\n",
        "\n",
        "        chebs = [MagConv(in_c=in_c, out_c=num_filter, K=K)]\n",
        "        chebs.append(activation_func())\n",
        "\n",
        "        for i in range(1, layer):\n",
        "            chebs.append(MagConv(in_c=num_filter, out_c=num_filter, K=K))\n",
        "            chebs.append(activation_func())\n",
        "        self.Chebs = torch.nn.Sequential(*chebs)\n",
        "        \n",
        "        last_dim = 2\n",
        "        self.linear = nn.Linear(num_filter*last_dim*2, label_dim)     \n",
        "        self.dropout = dropout\n",
        "        \n",
        "\n",
        "    def forward(self, real, imag, L_img , L_real, z_emb, batch):\n",
        "        z_emb = self.z_embedding(z_emb)\n",
        "        if z_emb.ndim == 3:  # in case z has multiple integer labels\n",
        "            z_emb = z_emb.sum(dim=1)\n",
        "        # if self.use_feature and x is not None:\n",
        "        #     x = torch.cat([z_emb, x.to(torch.float)], 1)\n",
        "        # else:\n",
        "        # x = z_emb\n",
        "        z_emb = global_add_pool(z_emb, batch)\n",
        "        # z_emb = F.relu(self.lin1(z_emb))\n",
        "\n",
        "        real, imag = self.Chebs((real, imag), L_real, L_img)\n",
        "\n",
        "        x = torch.cat((real[index[:,0]], real[index[:,1]], imag[index[:,0]], imag[index[:,1]]), dim = -1)\n",
        "        x = global_add_pool(x, batch)\n",
        "        x = torch.cat([z_emb, x.to(torch.float)], 1)\n",
        "        # print(x.shape)\n",
        "        if self.dropout > 0:\n",
        "            x = F.dropout(x, self.dropout, training=self.training)\n",
        "\n",
        "        x = self.linear(x)\n",
        "        # print(x.shape)\n",
        "        x = F.log_softmax(x, dim=1)\n",
        "        \n",
        "        return x"
      ],
      "metadata": {
        "id": "ljwXitPf7Ju_"
      },
      "execution_count": 73,
      "outputs": []
    },
    {
      "cell_type": "code",
      "source": [
        "# methods taken from magnet for processing the laplacian and edge features \n",
        "\n",
        "def sparse_mx_to_torch_sparse_tensor(sparse_mx):\n",
        "    \"\"\"Convert a scipy sparse matrix to a torch sparse tensor.\"\"\"\n",
        "    sparse_mx = sparse_mx.tocoo().astype(np.float32)\n",
        "    indices = torch.from_numpy(\n",
        "        np.vstack((sparse_mx.row, sparse_mx.col)).astype(np.int64))\n",
        "    values = torch.from_numpy(sparse_mx.data)\n",
        "    shape = torch.Size(sparse_mx.shape)\n",
        "    return torch.sparse.FloatTensor(indices, values, shape)\n",
        "\n",
        "# in-out degree calculation\n",
        "def in_out_degree(edge_index, size):\n",
        "    A = coo_matrix((np.ones(len(edge_index)), (edge_index[:,0], edge_index[:,1])), shape=(size, size), dtype=np.float32).tocsr()\n",
        "    out_degree = np.sum(A, axis = 0).T\n",
        "    in_degree = np.sum(A, axis = 1)\n",
        "    degree = torch.from_numpy(np.c_[in_degree, out_degree]).float()\n",
        "    return degree\n",
        "\n",
        "\n",
        "def to_edge_dataset_sparse(q, edge_index, K, data_split, size, root='../dataset/data/tmp/', laplacian=True, norm=True, max_eigen = 2.0, gcn_appr = False):\n",
        "    f_node, e_node = edge_index[0], edge_index[1]\n",
        "    L = hermitian_decomp_sparse(f_node, e_node, size, q, norm=True, laplacian=laplacian, max_eigen = 2.0, gcn_appr = gcn_appr)\n",
        "    multi_order_laplacian = cheb_poly_sparse(L, K)\n",
        "\n",
        "    return multi_order_laplacian\n",
        "\n",
        "\n",
        "# Node features and laplacian \n",
        "def geometric_dataset_sparse(q, K, data, load_only = False, save_pk = True, laplacian = True, gcn_appr = False):\n",
        "   \n",
        "\n",
        "    size = data.y.size(-1)\n",
        "    #adj = torch.zeros(size, size).data.numpy().astype('uint8')\n",
        "    #adj[dataset[0].edge_index[0], dataset[0].edge_index[1]] = 1\n",
        "\n",
        "    f_node, e_node = data.edge_index[0], data.edge_index[1]\n",
        "\n",
        "    label = data.y.data.numpy().astype('int')\n",
        "    # X = data.x.data.numpy().astype('float32')\n",
        "    # train_mask = data.train_mask.data.numpy().astype('bool_')\n",
        "    # val_mask = data.val_mask.data.numpy().astype('bool_')\n",
        "    # test_mask = data.test_mask.data.numpy().astype('bool_')\n",
        "\n",
        "    # if load_only:\n",
        "    #     return X, label, train_mask, val_mask, test_mask\n",
        "    \n",
        "    try:\n",
        "        L = hermitian_decomp_sparse(f_node, e_node, size, q, norm=True, laplacian=laplacian, \n",
        "            max_eigen = 2.0, gcn_appr = gcn_appr, edge_weight = data.edge_weight)\n",
        "    except AttributeError:\n",
        "        L = hermitian_decomp_sparse(f_node, e_node, size, q, norm=True, laplacian=laplacian, \n",
        "            max_eigen = 2.0, gcn_appr = gcn_appr, edge_weight = None)\n",
        "\n",
        "    multi_order_laplacian = cheb_poly_sparse(L, K)\n",
        "    return X, label,  multi_order_laplacian"
      ],
      "metadata": {
        "id": "D-VMayA50_tC"
      },
      "execution_count": 67,
      "outputs": []
    },
    {
      "cell_type": "code",
      "source": [
        "datasets[0].keys()"
      ],
      "metadata": {
        "colab": {
          "base_uri": "https://localhost:8080/"
        },
        "id": "O42UM0Uf3jwE",
        "outputId": "baf7316c-2861-4cdf-fe96-e187ca2e5e9c"
      },
      "execution_count": null,
      "outputs": [
        {
          "output_type": "execute_result",
          "data": {
            "text/plain": [
              "dict_keys(['graph', 'undirected', 'train_pos_neg', 'train_pair_label', 'val_pos_neg', 'val_pair_label', 'test_pos_neg', 'test_pair_label'])"
            ]
          },
          "metadata": {},
          "execution_count": 43
        }
      ]
    },
    {
      "cell_type": "code",
      "source": [
        "# Test hermitian laplacian loader test\n",
        "for data in train_loader:\n",
        "  print(data.z)\n",
        "  edges = data.edge_index\n",
        "  i = 0\n",
        "  size = torch.max(data.edge_index).item()+1\n",
        "  L = to_edge_dataset_sparse(args.q, edges, args.K, i, size, root=args.data_path+args.dataset, \n",
        "                            laplacian=True, norm=args.not_norm, gcn_appr = False) "
      ],
      "metadata": {
        "id": "Q_JCLTiu5zg4"
      },
      "execution_count": null,
      "outputs": []
    },
    {
      "cell_type": "code",
      "source": [
        "# initialize model \n",
        "\n",
        "data = datasets[0]['graph']['data']\n",
        "edge_index  = data.edge_index\n",
        "\n",
        "# get feature\n",
        "X_img = in_out_degree(edges, size).to(device)\n",
        "X_real = X_img.clone()\n",
        "\n",
        "model = MagNet_Edge(X_real.size(-1), K = args.K, label_dim = args.num_class_link, layer = args.layer,\n",
        "                        num_filter = args.num_filter, dropout=args.dropout)\n",
        "model = model.to(device)\n",
        "opt = optim.Adam(model.parameters(), lr=args.lr, weight_decay=args.l2)"
      ],
      "metadata": {
        "id": "E5_UpoSMxP6Z"
      },
      "execution_count": 86,
      "outputs": []
    },
    {
      "cell_type": "code",
      "source": [
        "from IPython.display import Javascript\n",
        "display(Javascript('''google.colab.output.setIframeHeight(0, true, {maxHeight: 300})'''))\n",
        "\n",
        "def train():\n",
        "    model.train()\n",
        "\n",
        "    for data in train_loader:  # Iterate in batches over the training dataset.\n",
        "\n",
        "         data = data.to(device)\n",
        "         opt.zero_grad()\n",
        "         \n",
        "         edges = data.edge_index\n",
        "         \n",
        "         size = torch.max(data.edge_index).item()+1\n",
        "         i = 0\n",
        "         L = to_edge_dataset_sparse(args.q, edges, args.K, i, size, root=args.data_path+args.dataset, \n",
        "                            laplacian=True, norm=args.not_norm, gcn_appr = False) \n",
        "\n",
        "         # convert dense laplacian to sparse matrix\n",
        "         L_img = []\n",
        "         L_real = []\n",
        "         for i in range(len(L)):\n",
        "              L_img.append( sparse_mx_to_torch_sparse_tensor(L[i].imag).to(device) )\n",
        "              L_real.append( sparse_mx_to_torch_sparse_tensor(L[i].real).to(device) )\n",
        "\n",
        "\n",
        "        # get feature\n",
        "         X_img = in_out_degree(edges, size).to(device)\n",
        "         X_real = X_img.clone()\n",
        "\n",
        "         train_loss, train_acc = 0.0, 0.0\n",
        "         model.train()\n",
        "         z_emb = data.z\n",
        "         out = model(X_real, X_img,  L_img , L_real, z_emb, data.batch)\n",
        "        \n",
        "         train_loss = F.nll_loss(out, y_train)\n",
        "         pred_label = out.max(dim = 1)[1]            \n",
        "         train_acc  = acc(pred_label, y_train)\n",
        "        \n",
        "         opt.zero_grad()\n",
        "         train_loss.backward()\n",
        "         opt.step()\n",
        "\n",
        "\n",
        "def test(loader):\n",
        "     model.eval()\n",
        "\n",
        "     correct = 0\n",
        "     for data in loader:  # Iterate in batches over the training/test dataset.\n",
        "         data = data.to(device)\n",
        "         opt.zero_grad()\n",
        "         \n",
        "         edges = data.edge_index\n",
        "         size = torch.max(data.edge_index).item()+1\n",
        "         i = 0\n",
        "         L = to_edge_dataset_sparse(args.q, edges, args.K, i, size, root=args.data_path+args.dataset, \n",
        "                            laplacian=True, norm=args.not_norm, gcn_appr = False) \n",
        "\n",
        "         # convert dense laplacian to sparse matrix\n",
        "         L_img = []\n",
        "         L_real = []\n",
        "         for i in range(len(L)):\n",
        "              L_img.append( sparse_mx_to_torch_sparse_tensor(L[i].imag).to(device) )\n",
        "              L_real.append( sparse_mx_to_torch_sparse_tensor(L[i].real).to(device) )\n",
        "\n",
        "\n",
        "        # get feature\n",
        "         X_img = in_out_degree(edges, size).to(device)\n",
        "         X_real = X_img.clone()\n",
        "\n",
        "         train_loss, train_acc = 0.0, 0.0\n",
        "         model.train()\n",
        "         z_emb = data.z\n",
        "         out = model(X_real, X_img,  L_img , L_real, z_emb, data.batch)\n",
        "         pred = out.max(dim = 1)[1]\n",
        "\n",
        "         correct += int((pred == data.y).sum())  # Check against ground-truth labels.\n",
        "     return correct / len(loader.dataset)  # Derive ratio of correct predictions.\n"
      ],
      "metadata": {
        "id": "0n-cwPTM730b",
        "colab": {
          "base_uri": "https://localhost:8080/",
          "height": 16
        },
        "outputId": "c3c64429-af18-4119-def4-5b743c5893fa"
      },
      "execution_count": 88,
      "outputs": [
        {
          "output_type": "display_data",
          "data": {
            "text/plain": [
              "<IPython.core.display.Javascript object>"
            ],
            "application/javascript": [
              "google.colab.output.setIframeHeight(0, true, {maxHeight: 300})"
            ]
          },
          "metadata": {}
        }
      ]
    },
    {
      "cell_type": "code",
      "source": [
        "for epoch in range(1, 5):\n",
        "    train()\n",
        "    # train_acc = test(train_loader)\n",
        "    # test_acc = test(test_loader)\n",
        "    # print(f'Epoch: {epoch:03d}, Train Acc: {train_acc:.4f}, Test Acc: {test_acc:.4f}')"
      ],
      "metadata": {
        "id": "3DqyFDsaizD6"
      },
      "execution_count": null,
      "outputs": []
    },
    {
      "cell_type": "markdown",
      "source": [
        "# Magnet Baseline"
      ],
      "metadata": {
        "id": "ARj1IqkEE74a"
      }
    },
    {
      "cell_type": "code",
      "source": [
        "import numpy as np\n",
        "import pickle as pk\n",
        "import torch.optim as optim\n",
        "from datetime import datetime\n",
        "import os, time, argparse, csv\n",
        "from collections import Counter\n",
        "import torch.nn.functional as F\n",
        "from sklearn.model_selection import train_test_split\n",
        "from torch.optim.lr_scheduler import CosineAnnealingLR\n",
        "from torch_geometric.datasets import WebKB, WikipediaNetwork, WikiCS\n",
        "from torch_geometric.utils import to_undirected\n",
        "\n",
        "# internal files\n",
        "from layer.sparse_magnet import *\n",
        "from utils.edge_data import * # generate_dataset_2class, in_out_degree, link_prediction_evaluation\n",
        "from utils.preprocess import to_edge_dataset_sparse, load_syn\n",
        "from utils.save_settings import write_log\n",
        "from utils.Citation import load_citation_link"
      ],
      "metadata": {
        "id": "Ko1IW5dAj9Dq"
      },
      "execution_count": null,
      "outputs": []
    },
    {
      "cell_type": "code",
      "source": [
        "# select cuda device if available\n",
        "cuda_device = 0\n",
        "device = torch.device(\"cuda:%d\" % cuda_device if torch.cuda.is_available() else \"cpu\")\n",
        "\n",
        "def parse_args():\n",
        "    parser = argparse.ArgumentParser(description=\"link prediction of MagNet\")\n",
        "    parser.add_argument('--log_root', type=str, default='../logs/', help='the path saving model.t7 and the training process')\n",
        "    parser.add_argument('--log_path', type=str, default='test', help='the path saving model.t7 and the training process, the name of folder will be log/(current time)')\n",
        "    parser.add_argument('--data_path', type=str, default='../dataset/data/tmp/', help='data set folder, for default format see dataset/cora/cora.edges and cora.node_labels')\n",
        "    parser.add_argument('--dataset', type=str, default='', help='data set selection')\n",
        "    \n",
        "    \n",
        "    parser.add_argument('--split_prob', type=lambda s: [float(item) for item in s.split(',')], default=\"0.15,0.05\", help='random drop for testing/validation/training edges (for 3-class classification only)')\n",
        "    parser.add_argument('--task', type=int, default=2, help='2: 2-class classification 3: 3-class classification')\n",
        "    \n",
        "    parser.add_argument('--epochs', type=int, default=1500, help='training epochs')\n",
        "    parser.add_argument('--num_filter', type=int, default=4, help='num of filters')\n",
        "    parser.add_argument('-not_norm', '-n', action='store_false', help='if use normalized laplacian or not, default: yes')\n",
        "\n",
        "    parser.add_argument('--method_name', type=str, default='MagNet_Edge', help='method name')\n",
        "    parser.add_argument('--batch_size', type=int, default=32)\n",
        "    parser.add_argument('--q', type=float, default=0, help='q value for the phase matrix')\n",
        "    parser.add_argument('--K', type=int, default=1, help='K for cheb series')\n",
        "    parser.add_argument('--layer', type=int, default=2, help='how many layers of gcn in the model, only 1 or 2 layers.')\n",
        "\n",
        "    parser.add_argument('--num_workers', type=int, default=0, \n",
        "                    help=\"number of workers for dynamic mode; 0 if not dynamic\")\n",
        "\n",
        "    parser.add_argument('--dropout', type=float, default=0.5, help='dropout prob')\n",
        "    parser.add_argument('--debug', '-D', action='store_true', help='debug mode')\n",
        "    parser.add_argument('--num_class_link', type=int, default=2,\n",
        "                        help='number of classes for link direction prediction(2 or 3).')\n",
        "\n",
        "    parser.add_argument('--lr', type=float, default=1e-3, help='learning rate')\n",
        "    parser.add_argument('--l2', type=float, default=5e-4, help='l2 regularizer')\n",
        "    return parser.parse_args([])"
      ],
      "metadata": {
        "id": "3kZf_O4Ulks-"
      },
      "execution_count": null,
      "outputs": []
    },
    {
      "cell_type": "code",
      "source": [
        "# load dataset\n",
        "date_time = datetime.now().strftime('%m-%d-%H:%M:%S')\n",
        "args.log_root = \"/content/DSEAL/Directed_Cora_ML_citeseer/Directed_Cora_ML_citeseer/Test/logs\"\n",
        "args.log_path = \"test\"\n",
        "args.save_name = \"cora\"\n",
        "\n",
        "log_path = os.path.join(args.log_root, args.log_path, args.save_name)\n",
        "# print(log_path)\n",
        "\n",
        "#data\n",
        "dataset = torch.load(\"/content/DSEAL/WebKB/Cornell/cornell/processed/data.pt\")\n",
        "\n",
        "\n",
        "if 'dataset' in locals():\n",
        "  data = dataset[0]\n",
        "  edge_index = data.edge_index\n",
        "\n",
        "size = torch.max(edge_index).item()+1\n",
        "save_file = args.data_path\n",
        "# save_file = args.data_path + args.dataset + '/' + subset\n",
        "\n",
        "datasets = generate_dataset_2class(edge_index, data, splits = 1 , test_prob = 0.3)\n",
        "torch.save(datasets, \"datasets_pair.pt\")\n",
        "# print(datasets[0]['graph'] [\"x\"] )\n",
        "# datasets = generate_dataset_3class(edge_index, size, save_file, splits = 10, probs = args.split_prob, task=args.task, label_dim=args.num_class_link)\n",
        "\n",
        "if args.task != 2:\n",
        "  results = np.zeros((10, 4))\n",
        "else:\n",
        "  results = np.zeros((10, 4, 5))"
      ],
      "metadata": {
        "id": "LTIVU2m9tw9_"
      },
      "execution_count": null,
      "outputs": []
    },
    {
      "cell_type": "code",
      "source": [
        "def acc(pred, label):\n",
        "    #print(pred.shape, label.shape)       \n",
        "    correct = pred.eq(label).sum().item()\n",
        "    acc = correct / len(pred)\n",
        "    return acc\n",
        "\n",
        "def sparse_mx_to_torch_sparse_tensor(sparse_mx):\n",
        "    \"\"\"Convert a scipy sparse matrix to a torch sparse tensor.\"\"\"\n",
        "    sparse_mx = sparse_mx.tocoo().astype(np.float32)\n",
        "    indices = torch.from_numpy(\n",
        "        np.vstack((sparse_mx.row, sparse_mx.col)).astype(np.int64))\n",
        "    values = torch.from_numpy(sparse_mx.data)\n",
        "    shape = torch.Size(sparse_mx.shape)\n",
        "    return torch.sparse.FloatTensor(indices, values, shape)"
      ],
      "metadata": {
        "id": "fZ4DqRHcute1"
      },
      "execution_count": null,
      "outputs": []
    },
    {
      "cell_type": "code",
      "source": [
        "datasets[0].keys()"
      ],
      "metadata": {
        "colab": {
          "base_uri": "https://localhost:8080/"
        },
        "id": "g-HP3xDt4xbR",
        "outputId": "55cb4003-6732-4150-b3dc-b55ff6b572fd"
      },
      "execution_count": null,
      "outputs": [
        {
          "output_type": "execute_result",
          "data": {
            "text/plain": [
              "dict_keys(['graph', 'undirected', 'train_pos_neg', 'train_pair_label', 'val_pos_neg', 'val_pair_label', 'test_pos_neg', 'test_pair_label'])"
            ]
          },
          "metadata": {},
          "execution_count": 42
        }
      ]
    },
    {
      "cell_type": "code",
      "source": [
        "# Edge feature based Link prediction \n",
        "\n",
        "# print(data.edge_index)\n",
        "# for i in range(1):\n",
        "########################################\n",
        "# get hermitian laplacian\n",
        "########################################\n",
        "edges = datasets[0]['graph'] [\"data\"] .edge_index\n",
        "L = to_edge_dataset_sparse(args.q, edges, args.K, 0, size, root=args.data_path+args.dataset, \n",
        "                            laplacian=True, norm=args.not_norm, gcn_appr = False) \n",
        "\n",
        "\n",
        "# z_train = train_SEAL.z\n",
        "# z_train = z_train.to(device)\n",
        "# convert dense laplacian to sparse matrix\n",
        "L_img = []\n",
        "L_real = []\n",
        "for ind_L in range(len(L)):\n",
        "    L_img.append( sparse_mx_to_torch_sparse_tensor(L[ind_L].imag).to(device) )\n",
        "    L_real.append( sparse_mx_to_torch_sparse_tensor(L[ind_L].real).to(device) )\n",
        "\n",
        "# get feature\n",
        "X_img = in_out_degree(edges, size).to(device)\n",
        "X_real = X_img.clone()\n",
        "\n",
        "#     ########################################\n",
        "#     # initialize model and load dataset\n",
        "#     ########################################\n",
        "model = MagNet_Edge(X_real.size(-1), L_real, L_img, K = args.K, label_dim = args.num_class_link, layer = args.layer,\n",
        "                        num_filter = args.num_filter, dropout=args.dropout)\n",
        "\n",
        "#model = nn.DataParallel(model)  \n",
        "model = model.to(device)\n",
        "opt = optim.Adam(model.parameters(), lr=args.lr, weight_decay=args.l2)\n",
        "\n",
        "y_train = datasets[0]['train_pair_label']['label']\n",
        "# print(len(y_train))\n",
        "y_val   = datasets[0]['val_pair_label']['label']\n",
        "\n",
        "y_test  = datasets[0]['test_pair_label']['label']\n",
        "y_train = torch.from_numpy(y_train).long().to(device)\n",
        "y_val   = torch.from_numpy(y_val).long().to(device)\n",
        "y_test  = torch.from_numpy(y_test).long().to(device)\n",
        "# print(y_train.shape)\n",
        "train_index = torch.from_numpy(datasets[0]['train_pair_label']['pairs']).to(device)\n",
        "# print(train_index.shape)\n",
        "val_index = torch.from_numpy(datasets[0]['val_pair_label']['pairs']).to(device)\n",
        "test_index= torch.from_numpy(datasets[0]['test_pair_label']['pairs']).to(device)\n",
        "# ################################\n",
        "# Train/Validation/Test\n",
        "################################\n",
        "\n",
        "best_test_err = 1000.0\n",
        "early_stopping = 0\n",
        "log_str_full = ''"
      ],
      "metadata": {
        "id": "IFbXvreLWi5m"
      },
      "execution_count": null,
      "outputs": []
    },
    {
      "cell_type": "code",
      "source": [
        "\n",
        "for epoch in range(args.epochs):\n",
        "    start_time = time.time()\n",
        "    if early_stopping > 500:\n",
        "        break\n",
        "    ####################\n",
        "    # Train\n",
        "    ####################\n",
        "    train_loss, train_acc = 0.0, 0.0\n",
        "    model.train()\n",
        "    # print(X_real.shape)\n",
        "    # print(X_img.shape)\n",
        "    out = model(X_real, X_img, \n",
        "                train_index)\n",
        "\n",
        "    # print(out.shape)\n",
        "\n",
        "    train_loss = F.nll_loss(out, y_train)\n",
        "    pred_label = out.max(dim = 1)[1]            \n",
        "    train_acc  = acc(pred_label, y_train)\n",
        "\n",
        "    opt.zero_grad()\n",
        "    train_loss.backward()\n",
        "    opt.step()\n",
        "    outstrtrain = 'Train loss: %.6f, acc: %.3f' % (train_loss.detach().item(), train_acc)\n",
        "                        \n",
        "    ####################\n",
        "    # Validation\n",
        "    ####################\n",
        "    train_loss, train_acc = 0.0, 0.0\n",
        "    model.eval()\n",
        "    out = model(X_real, X_img, \n",
        "                val_index)\n",
        "\n",
        "    test_loss  = F.nll_loss(out, y_val)\n",
        "    pred_label = out.max(dim = 1)[1]          \n",
        "    test_acc   = acc(pred_label, y_val)\n",
        "\n",
        "    outstrval = ' Test loss: %.6f, acc: %.3f' % (test_loss.detach().item(), test_acc)            \n",
        "    duration = \"--- %.4f seconds ---\" % (time.time() - start_time)\n",
        "    log_str = (\"%d / %d epoch\" % (epoch, args.epochs))+outstrtrain+outstrval+duration\n",
        "    #print(log_str)\n",
        "    log_str_full += log_str + '\\n'\n",
        "\n",
        "    ####################\n",
        "    # Save weights\n",
        "    ####################\n",
        "    torch.save(model.state_dict(), log_path + '/model_latest'+str(0)+'.t7')\n",
        "    save_perform = test_loss.detach().item()\n",
        "    if save_perform <= best_test_err:\n",
        "        early_stopping = 0\n",
        "        best_test_err = save_perform\n",
        "        torch.save(model.state_dict(), log_path + '/model'+str(0)+'.t7')\n",
        "    else:\n",
        "        early_stopping += 1\n",
        "\n",
        "write_log(vars(args), log_path)\n",
        "\n",
        "        ####################\n",
        "        # Testing\n",
        "        ####################\n",
        "if args.task != 2:\n",
        "    model.load_state_dict(torch.load(log_path + '/model'+str(0)+'.t7'))\n",
        "    model.eval()\n",
        "    out = model(X_real, X_img, val_index)[:,:2]\n",
        "    pred_label = out.max(dim = 1)[1]\n",
        "    val_acc = acc(pred_label, y_val)\n",
        "\n",
        "    out = model(X_real, X_img, test_index)[:,:2]\n",
        "    pred_label = out.max(dim = 1)[1]\n",
        "    test_acc = acc(pred_label, y_test)\n",
        "\n",
        "    model.load_state_dict(torch.load(log_path + '/model_latest'+str(0)+'.t7'))\n",
        "    model.eval()\n",
        "    out = model(X_real, X_img,  val_index)[:,:2]\n",
        "    pred_label = out.max(dim = 1)[1]\n",
        "    val_acc_latest = acc(pred_label, y_val)\n",
        "\n",
        "    out = model(X_real, X_img,  test_index)[:,:2]\n",
        "    pred_label = out.max(dim = 1)[1]\n",
        "    test_acc_latest = acc(pred_label, y_test)\n",
        "    ####################\n",
        "    # Save testing results\n",
        "    ####################\n",
        "    log_str = ('val_acc: {val_acc:.4f}, '+'test_acc: {test_acc:.4f}, ')\n",
        "    log_str1 = log_str.format(val_acc = val_acc, test_acc = test_acc)\n",
        "    log_str_full += log_str1\n",
        "\n",
        "    log_str = ('val_acc_latest: {val_acc_latest:.4f}, ' + 'test_acc_latest: {test_acc_latest:.4f}, ' )\n",
        "    log_str2 = log_str.format(val_acc_latest = val_acc_latest, test_acc_latest = test_acc_latest)\n",
        "    log_str_full += log_str2 + '\\n'\n",
        "    print(log_str1+log_str2)\n",
        "\n",
        "    results[i] = [val_acc, test_acc, val_acc_latest, test_acc_latest]\n",
        "else:\n",
        "    model.load_state_dict(torch.load(log_path + '/model'+str(0)+'.t7'))\n",
        "    model.eval()\n",
        "    out_val = model(X_real, X_img, val_index)\n",
        "    out_test = model(X_real, X_img, test_index)\n",
        "    [[val_acc_full, val_acc, val_auc, val_f1_micro, val_f1_macro],\n",
        "        [test_acc_full, test_acc, test_auc, \n",
        "        test_f1_micro, test_f1_macro]] = link_prediction_evaluation(out_val, out_test, y_val, y_test)\n",
        "    \n",
        "    model.load_state_dict(torch.load(log_path + '/model_latest'+str(0)+'.t7'))\n",
        "    model.eval()\n",
        "    out_val = model(X_real, X_img, val_index)\n",
        "    out_test = model(X_real, X_img, test_index)\n",
        "    [[val_acc_full_latest, val_acc_latest, val_auc_latest, val_f1_micro_latest, val_f1_macro_latest],\n",
        "                    [test_acc_full_latest, test_acc_latest, test_auc_latest, \n",
        "                    test_f1_micro_latest, test_f1_macro_latest]] = link_prediction_evaluation(out_val, out_test, y_val, y_test)\n",
        "    ####################\n",
        "    # Save testing results\n",
        "    ####################\n",
        "    log_str = ('val_acc_full:{val_acc_full:.3f}, val_acc: {val_acc:.3f} '\n",
        "                + 'test_acc_full:{test_acc_full:.3f}, test_acc: {test_acc:.3f}')\n",
        "    log_str = log_str.format(val_acc_full = val_acc_full, val_acc = val_acc, \n",
        "                                test_acc_full = test_acc_full, test_acc = test_acc)\n",
        "    log_str_full += log_str + '\\n'\n",
        "    print(log_str)\n",
        "\n",
        "    results[0] = [[val_acc_full, val_acc, val_auc, val_f1_micro, val_f1_macro],\n",
        "                    [test_acc_full, test_acc, test_auc, test_f1_micro, test_f1_macro],\n",
        "                    [val_acc_full_latest, val_acc_latest, val_auc_latest, val_f1_micro_latest, val_f1_macro_latest],\n",
        "                    [test_acc_full_latest, test_acc_latest, test_auc_latest, test_f1_micro_latest, test_f1_macro_latest]]\n",
        "with open(log_path + '/log'+str(0)+'.csv', 'w') as file:\n",
        "    file.write(log_str_full)\n",
        "    file.write('\\n')\n",
        "torch.cuda.empty_cache()\n",
        "\n",
        "    # return results"
      ],
      "metadata": {
        "colab": {
          "base_uri": "https://localhost:8080/"
        },
        "id": "8J_qYsQLuAVB",
        "outputId": "593bea7e-2433-4c2b-f5ba-64b9e976f4a4"
      },
      "execution_count": null,
      "outputs": [
        {
          "output_type": "stream",
          "name": "stdout",
          "text": [
            "val_acc_full:0.767, val_acc: 0.767 test_acc_full:0.744, test_acc: 0.744\n"
          ]
        }
      ]
    },
    {
      "cell_type": "code",
      "source": [
        "# Node Feature based Node classification \n",
        "\n",
        "# external files\n",
        "import numpy as np\n",
        "import pickle as pk\n",
        "from scipy import sparse\n",
        "import torch.optim as optim\n",
        "from datetime import datetime\n",
        "import os, time, argparse, csv\n",
        "from collections import Counter\n",
        "import torch.nn.functional as F\n",
        "from torch_sparse import SparseTensor\n",
        "from sklearn.model_selection import train_test_split\n",
        "from torch.optim.lr_scheduler import CosineAnnealingLR\n",
        "from torch_geometric.datasets import WebKB, WikipediaNetwork, WikiCS\n",
        "\n",
        "# internal files\n",
        "from utils.Citation import *\n",
        "from layer.sparse_magnet import *\n",
        "from utils.preprocess import geometric_dataset_sparse, load_syn\n",
        "from utils.save_settings import write_log\n",
        "from utils.hermitian import hermitian_decomp_sparse"
      ],
      "metadata": {
        "id": "-oOb0zfe7xUU"
      },
      "execution_count": null,
      "outputs": []
    },
    {
      "cell_type": "code",
      "source": [
        "def parse_args():\n",
        "    parser = argparse.ArgumentParser(description=\"MagNet Conv (sparse version)\")\n",
        "    parser.add_argument('--log_root', type=str, default='../logs/', help='the path saving model.t7 and the training process')\n",
        "    parser.add_argument('--log_path', type=str, default='test', help='the path saving model.t7 and the training process, the name of folder will be log/(current time)')\n",
        "    parser.add_argument('--data_path', type=str, default='../dataset/data/tmp/', help='data set folder, for default format see dataset/cora/cora.edges and cora.node_labels')\n",
        "    parser.add_argument('--dataset', type=str, default='WebKB/Cornell', help='data set selection')\n",
        "\n",
        "    parser.add_argument('--epochs', type=int, default=3000, help='Number of (maximal) training epochs.')\n",
        "    parser.add_argument('--q', type=float, default=0.25, help='q value for the phase matrix')\n",
        "    parser.add_argument('--method_name', type=str, default='Magnet', help='method name')\n",
        "\n",
        "    parser.add_argument('--K', type=int, default=1, help='K for cheb series')\n",
        "    parser.add_argument('--layer', type=int, default=2, help='How many layers of gcn in the model, default 2 layers.')\n",
        "    parser.add_argument('--dropout', type=float, default=0.5, help='dropout prob')\n",
        "\n",
        "    parser.add_argument('--debug', '-D', action='store_true', help='debug mode')\n",
        "    parser.add_argument('--lr', type=float, default=5e-3, help='learning rate')\n",
        "    parser.add_argument('--l2', type=float, default=5e-4, help='l2 regularizer')\n",
        "\n",
        "    parser.add_argument('--num_filter', type=int, default=16, help='num of filters')\n",
        "    parser.add_argument('--randomseed', type=int, default=3407, help='if set random seed in training')\n",
        "    return parser.parse_args([])"
      ],
      "metadata": {
        "id": "exRtEUrN83ng"
      },
      "execution_count": null,
      "outputs": []
    },
    {
      "cell_type": "code",
      "source": [
        "def sparse_mx_to_torch_sparse_tensor(sparse_mx):\n",
        "    \"\"\"Convert a scipy sparse matrix to a torch sparse tensor.\"\"\"\n",
        "    sparse_mx = sparse_mx.tocoo().astype(np.float32)\n",
        "    indices = torch.from_numpy(\n",
        "        np.vstack((sparse_mx.row, sparse_mx.col)).astype(np.int64))\n",
        "    values = torch.from_numpy(sparse_mx.data)\n",
        "    shape = torch.Size(sparse_mx.shape)\n",
        "    return torch.sparse.FloatTensor(indices, values, shape)"
      ],
      "metadata": {
        "id": "sW3HLo8T846h"
      },
      "execution_count": null,
      "outputs": []
    },
    {
      "cell_type": "code",
      "source": [
        "# def main(args):\n",
        "args = parse_args()\n",
        "if args.randomseed > 0:\n",
        "    torch.manual_seed(args.randomseed)\n",
        "#Load dataset\n",
        "date_time = datetime.now().strftime('%m-%d-%H:%M:%S')\n",
        "args.log_root = \"/content/DSEAL/Directed_Cora_ML_citeseer/Directed_Cora_ML_citeseer/Test/logs\"\n",
        "args.log_path = \"test\"\n",
        "args.save_name = \"cora\"\n",
        "log_path = os.path.join(args.log_root, args.log_path, args.save_name)\n",
        "\n",
        "\n",
        "if os.path.isdir(log_path) == False:\n",
        "    try:\n",
        "        os.makedirs(log_path)\n",
        "    except FileExistsError:\n",
        "        print('Folder exists!')\n",
        "\n",
        "load_func, subset = args.dataset.split('/')[0], args.dataset.split('/')[1]\n",
        "if load_func == 'WebKB':\n",
        "    func = WebKB\n",
        "elif load_func == 'cora_ml':\n",
        "    func = citation_datasets\n",
        "elif load_func == 'citeseer_npz':\n",
        "    func = citation_datasets\n",
        "elif load_func == 'syn':\n",
        "    func = load_syn\n",
        "    args.data_path = args.data_path+'syn/'+subset\n",
        "else:\n",
        "    print(\"wrong dataset name !!!\")\n",
        "    # return\n",
        "\n",
        "X, label, train_mask, val_mask, test_mask, L = geometric_dataset_sparse(args.q, args.K, \n",
        "                        root=args.data_path+load_func, subset=subset,\n",
        "                        dataset = func, load_only = False, save_pk = True)\n",
        "\n",
        "# normalize label, the minimum should be 0 as class index\n",
        "_label_ = label - np.amin(label)\n",
        "cluster_dim = np.amax(_label_)+1\n",
        "\n",
        "# convert dense laplacian to sparse matrix\n",
        "L_img = []\n",
        "L_real = []\n",
        "for i in range(len(L)):\n",
        "    L_img.append( sparse_mx_to_torch_sparse_tensor(L[i].imag).to(device) )\n",
        "    L_real.append( sparse_mx_to_torch_sparse_tensor(L[i].real).to(device) )\n",
        "\n",
        "label = torch.from_numpy(_label_[np.newaxis]).to(device)\n",
        "X_img  = torch.FloatTensor(X).to(device)\n",
        "X_real = torch.FloatTensor(X).to(device)\n",
        "criterion = nn.NLLLoss()\n",
        "\n",
        "splits = train_mask.shape[1]\n",
        "if len(test_mask.shape) == 1:\n",
        "    #data.test_mask = test_mask.unsqueeze(1).repeat(1, splits)\n",
        "    test_mask = np.repeat(test_mask[:,np.newaxis], splits, 1)\n",
        "\n",
        "results = np.zeros((splits, 4))\n",
        "for split in range(splits):\n",
        "    log_str_full = ''\n",
        "\n",
        "    model = MagNet(X_real.size(-1), L_real, L_img, K = args.K, label_dim=cluster_dim, layer = args.layer,\n",
        "                    num_filter = args.num_filter, dropout=args.dropout).to(device)    \n",
        "\n",
        "    opt = optim.Adam(model.parameters(), lr=args.lr, weight_decay=args.l2)\n",
        "\n",
        "    best_test_acc = 0.0\n",
        "    train_index = train_mask[:,split]\n",
        "    val_index = val_mask[:,split]\n",
        "    test_index = test_mask[:,split]\n",
        "\n",
        "    #################################\n",
        "    # Train/Validation/Test\n",
        "    #################################\n",
        "    best_test_err = 1000.0\n",
        "    early_stopping = 0\n",
        "    for epoch in range(args.epochs):\n",
        "        start_time = time.time()\n",
        "        ####################\n",
        "        # Train\n",
        "        ####################\n",
        "        count, train_loss, train_acc = 0.0, 0.0, 0.0\n",
        "\n",
        "        # for loop for batch loading\n",
        "        count += np.sum(train_index)\n",
        "\n",
        "        model.train()\n",
        "        preds = model(X_real, X_img)\n",
        "        train_loss = criterion(preds[:,:,train_index], label[:,train_index])\n",
        "        pred_label = preds.max(dim = 1)[1]\n",
        "        train_acc = 1.0*((pred_label[:,train_index] == label[:,train_index])).sum().detach().item()/count\n",
        "        opt.zero_grad()\n",
        "        train_loss.backward()\n",
        "        opt.step()\n",
        "        \n",
        "        outstrtrain = 'Train loss:, %.6f, acc:, %.3f,' % (train_loss.detach().item(), train_acc)\n",
        "        #scheduler.step()\n",
        "        ####################\n",
        "        # Validation\n",
        "        ####################\n",
        "        model.eval()\n",
        "        count, test_loss, test_acc = 0.0, 0.0, 0.0\n",
        "        \n",
        "        # for loop for batch loading\n",
        "        count += np.sum(val_index)\n",
        "        preds = model(X_real, X_img)\n",
        "        pred_label = preds.max(dim = 1)[1]\n",
        "\n",
        "        test_loss = criterion(preds[:,:,val_index], label[:,val_index])\n",
        "        test_acc = 1.0*((pred_label[:,val_index] == label[:,val_index])).sum().detach().item()/count\n",
        "\n",
        "        outstrval = ' Test loss:, %.6f, acc:, %.3f,' % (test_loss.detach().item(), test_acc)\n",
        "        \n",
        "        duration = \"---, %.4f, seconds ---\" % (time.time() - start_time)\n",
        "        log_str = (\"%d ,/, %d ,epoch,\" % (epoch, args.epochs))+outstrtrain+outstrval+duration\n",
        "        log_str_full += log_str + '\\n'\n",
        "        #print(log_str)\n",
        "\n",
        "        ####################\n",
        "        # Save weights\n",
        "        ####################\n",
        "        save_perform = test_loss.detach().item()\n",
        "        if save_perform <= best_test_err:\n",
        "            early_stopping = 0\n",
        "            best_test_err = save_perform\n",
        "            torch.save(model.state_dict(), log_path + '/model'+str(split)+'.t7')\n",
        "        else:\n",
        "            early_stopping += 1\n",
        "        if early_stopping > 500 or epoch == (args.epochs-1):\n",
        "            torch.save(model.state_dict(), log_path + '/model_latest'+str(split)+'.t7')\n",
        "            break\n",
        "\n",
        "    write_log(vars(args), log_path)\n",
        "\n",
        "    ####################\n",
        "    # Testing\n",
        "    ####################\n",
        "    model.load_state_dict(torch.load(log_path + '/model'+str(split)+'.t7'))\n",
        "    model.eval()\n",
        "    preds = model(X_real, X_img)\n",
        "    pred_label = preds.max(dim = 1)[1]\n",
        "    np.save(log_path + '/pred' + str(split), pred_label.to('cpu'))\n",
        "\n",
        "    count = np.sum(val_index)\n",
        "    acc_train = (1.0*((pred_label[:,val_index] == label[:,val_index])).sum().detach().item())/count\n",
        "\n",
        "    count = np.sum(test_index)\n",
        "    acc_test = (1.0*((pred_label[:,test_index] == label[:,test_index])).sum().detach().item())/count\n",
        "\n",
        "    model.load_state_dict(torch.load(log_path + '/model_latest'+str(split)+'.t7'))\n",
        "    model.eval()\n",
        "    preds = model(X_real, X_img)\n",
        "    pred_label = preds.max(dim = 1)[1]\n",
        "    np.save(log_path + '/pred_latest' + str(split), pred_label.to('cpu'))\n",
        "\n",
        "    count = np.sum(val_index)\n",
        "    acc_train_latest = (1.0*((pred_label[:,val_index] == label[:,val_index])).sum().detach().item())/count\n",
        "\n",
        "    count = np.sum(test_index)\n",
        "    acc_test_latest = (1.0*((pred_label[:,test_index] == label[:,test_index])).sum().detach().item())/count\n",
        "\n",
        "    ####################\n",
        "    # Save testing results\n",
        "    ####################\n",
        "    logstr = 'val_acc: '+str(np.round(acc_train, 3))+' test_acc: '+str(np.round(acc_test,3))+' val_acc_latest: '+str(np.round(acc_train_latest,3))+' test_acc_latest: '+str(np.round(acc_test_latest,3))\n",
        "    print(logstr)\n",
        "    results[split] = [acc_train, acc_test, acc_train_latest, acc_test_latest]\n",
        "    log_str_full += logstr\n",
        "    with open(log_path + '/log'+str(split)+'.csv', 'w') as file:\n",
        "        file.write(log_str_full)\n",
        "        file.write('\\n')\n",
        "    torch.cuda.empty_cache()\n",
        "    # return results"
      ],
      "metadata": {
        "id": "il9UjG1h9DqC"
      },
      "execution_count": null,
      "outputs": []
    },
    {
      "cell_type": "code",
      "source": [
        "if __name__ == \"__main__\":\n",
        "    args = parse_args()\n",
        "    if args.debug:\n",
        "        args.epochs = 1\n",
        "\n",
        "    dir_name = os.path.join(os.path.dirname(os.path.realpath(\n",
        "            __file__)), '../result_arrays',args.log_path,args.dataset+'/')\n",
        "    args.log_path = os.path.join(args.log_path,args.method_name, args.dataset)\n",
        "\n",
        "    if os.path.isdir(dir_name) == False:\n",
        "        try:\n",
        "            os.makedirs(dir_name)\n",
        "        except FileExistsError:\n",
        "            print('Folder exists!')\n",
        "    save_name = args.method_name + 'lr' + str(int(args.lr*1000)) + 'num_filters' + str(int(args.num_filter)) + 'q' + str(int(100*args.q)) + 'layer' + str(int(args.layer)) + 'K' +  str(int(args.K))\n",
        "    args.save_name = save_name\n",
        "    results = main(args)\n",
        "    np.save(dir_name+save_name, results)"
      ],
      "metadata": {
        "id": "qLdjDNSI9KiR"
      },
      "execution_count": null,
      "outputs": []
    },
    {
      "cell_type": "code",
      "source": [
        "# if __name__ == \"__main__\":\n",
        "#     args = parse_args()\n",
        "\n",
        "#     result = main(args)\n",
        "#     # main(args)"
      ],
      "metadata": {
        "id": "TOS0iMVkuE8a"
      },
      "execution_count": null,
      "outputs": []
    }
  ]
}